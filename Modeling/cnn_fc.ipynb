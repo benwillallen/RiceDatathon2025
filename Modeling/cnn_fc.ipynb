{
  "cells": [
    {
      "cell_type": "code",
      "execution_count": 607,
      "metadata": {
        "id": "0nLdmV8Cjb3Q"
      },
      "outputs": [],
      "source": [
        "import torch\n",
        "import torch.nn as nn\n",
        "import torch.nn.init as init\n",
        "import torch.optim as optim\n",
        "import torch.nn.functional as F\n",
        "# torhc dataset\n",
        "from torch.utils.data import Dataset, DataLoader\n",
        "\n",
        "# train test split\n",
        "from sklearn.model_selection import train_test_split\n",
        "\n",
        "from torch.optim.lr_scheduler import ReduceLROnPlateau\n",
        "\n",
        "import pandas as pd\n",
        "from sklearn.decomposition import PCA\n",
        "from imblearn.over_sampling import SMOTE\n",
        "\n",
        "#import summary for models\n",
        "from torchsummary import summary\n",
        "\n",
        "import numpy as np\n",
        "from sklearn.preprocessing import StandardScaler, OrdinalEncoder"
      ]
    },
    {
      "cell_type": "code",
      "execution_count": 608,
      "metadata": {
        "id": "ZHmU5aNnjb3R"
      },
      "outputs": [],
      "source": [
        "all_data = pd.read_csv(\"../Data/Train_and_Validate_EEG.csv\", index_col=0).drop(\"Unnamed: 122\",axis=1)\n",
        "data = all_data.drop(['sex','eeg.date','education','specific.disorder'], axis=1).dropna(axis=0)\n",
        "\n",
        "# Encode disorders\n",
        "encoder = OrdinalEncoder()\n",
        "data[['main.disorder']] = encoder.fit_transform(data[['main.disorder']])\n",
        "\n",
        "X = data.drop(['main.disorder'], axis=1).dropna(axis=0)\n",
        "y = data['main.disorder']\n",
        "X_train, X_val, y_train, y_val = train_test_split(X, y, test_size=0.2, random_state=42)"
      ]
    },
    {
      "cell_type": "code",
      "execution_count": 609,
      "metadata": {
        "id": "-S73qwxjjb3S"
      },
      "outputs": [],
      "source": [
        "bands = ['gamma', 'highbeta', 'beta', 'alpha', 'theta', 'delta']\n",
        "bands2 = ['F.gamma', 'E.highbeta', 'D.beta', 'C.alpha', 'B.theta', 'A.delta']\n",
        "\n",
        "# Separate column names based on whether they are PSD or coherence\n",
        "AB_per_band = {}\n",
        "AB_cols = []\n",
        "COH_per_band = {}\n",
        "COH_cols = []\n",
        "\n",
        "for band in bands:\n",
        "    AB_per_band[band] = []\n",
        "    COH_per_band[band] = []\n",
        "\n",
        "for col_name in X_train.drop(['age','IQ'], axis=1).columns:\n",
        "    col_split = col_name.split('.')\n",
        "    if col_split[0] == 'AB':\n",
        "        AB_per_band[col_split[2]].append(col_name)\n",
        "        AB_cols.append(col_name)\n",
        "    else:\n",
        "        COH_per_band[col_split[2]].append(col_name)\n",
        "        COH_cols.append(col_name)"
      ]
    },
    {
      "cell_type": "code",
      "execution_count": 610,
      "metadata": {
        "colab": {
          "base_uri": "https://localhost:8080/"
        },
        "id": "Tu4oRNRujb3S",
        "outputId": "571e8aa4-5d10-4931-c17b-36a8995013f0"
      },
      "outputs": [
        {
          "data": {
            "text/plain": [
              "19"
            ]
          },
          "execution_count": 610,
          "metadata": {},
          "output_type": "execute_result"
        }
      ],
      "source": [
        "# Get all electrode names\n",
        "electrodes = set()\n",
        "for col in COH_cols:\n",
        "    col_split = col.split('.')\n",
        "    # elec1 = col_split[4]\n",
        "    electrodes.add(col_split[3]+'.'+col_split[4])\n",
        "    # elec2 = col_split[6]\n",
        "    electrodes.add(col_split[5]+'.'+col_split[6])\n",
        "\n",
        "electrodes = list(electrodes)\n",
        "len(electrodes)"
      ]
    },
    {
      "cell_type": "markdown",
      "metadata": {
        "id": "yFzM7UHCjb3S"
      },
      "source": [
        "## data preprocessing\n",
        "coherence data shape = [num individuals, frequency bands, electrodes, electrodes]\n",
        "PSD data shape = [num individuals, frequency bands, electrodes]"
      ]
    },
    {
      "cell_type": "code",
      "execution_count": 611,
      "metadata": {
        "id": "pGWjHAtUjb3T"
      },
      "outputs": [],
      "source": [
        "num_samples = X_train.shape[0]\n",
        "num_nodes = len(electrodes)\n",
        "num_bands = len(bands)"
      ]
    },
    {
      "cell_type": "code",
      "execution_count": 612,
      "metadata": {
        "id": "C2f8c-XXjb3T"
      },
      "outputs": [],
      "source": [
        "def getCoherenceStacked(coherence):\n",
        "    adj_tensors = []\n",
        "\n",
        "    # for each individual\n",
        "    for i in range(coherence.shape[0]):\n",
        "        indiv_tensors = []\n",
        "\n",
        "        # for each band\n",
        "        for band_idx in range(len(bands2)):\n",
        "            # adjacency matrix electrodes x electrodes\n",
        "            adj_matrix = np.zeros([len(electrodes),len(electrodes)])\n",
        "\n",
        "            for elec1 in range(len(electrodes)):\n",
        "                for elec2 in range(elec1+1, len(electrodes)):\n",
        "                    col_name = 'COH.'+bands2[band_idx]+'.'+electrodes[elec1]+'.'+electrodes[elec2]\n",
        "                    if col_name in coherence.columns:\n",
        "                        adj_matrix[elec1][elec2] = coherence.iloc[i,:][col_name] #individual's row, then get value\n",
        "                    else:\n",
        "                        col_name = 'COH.'+bands2[band_idx]+'.'+electrodes[elec2]+'.'+electrodes[elec1]\n",
        "                        adj_matrix[elec1][elec2] = coherence.iloc[i,:][col_name] #individual's row, then get value\n",
        "            indiv_tensors.append(torch.from_numpy(adj_matrix).fill_diagonal_(1.0))\n",
        "\n",
        "        adj_tensors.append(torch.stack(indiv_tensors))\n",
        "\n",
        "    adj_matrices = torch.stack(adj_tensors)\n",
        "    # print(adj_matrices.shape)\n",
        "    adj_matrices = (adj_matrices + adj_matrices.transpose(2, 3)) / 2  # Ensure symmetry\n",
        "    print(adj_matrices.shape)\n",
        "    return adj_matrices"
      ]
    },
    {
      "cell_type": "code",
      "execution_count": 613,
      "metadata": {
        "id": "1JhFap70jb3T"
      },
      "outputs": [],
      "source": [
        "def getPSDStacked(psd):\n",
        "    psd_tensors = []\n",
        "    # for each individual\n",
        "    for i in range(psd.shape[0]):\n",
        "        psd_mat = np.zeros([len(electrodes),len(bands2)])\n",
        "\n",
        "        # for each band\n",
        "        for band_idx in range(len(bands2)):\n",
        "            for elec1 in range(len(electrodes)):\n",
        "                col_name = 'AB.'+bands2[band_idx]+'.'+electrodes[elec1]\n",
        "                psd_mat[elec1][band_idx] = psd.iloc[i,:][col_name] #individual's row, then get value\n",
        "\n",
        "        psd_tensors.append(torch.from_numpy(psd_mat))\n",
        "\n",
        "    node_features = torch.stack(psd_tensors)\n",
        "    print(node_features.shape)\n",
        "    return node_features"
      ]
    },
    {
      "cell_type": "code",
      "execution_count": 614,
      "metadata": {
        "colab": {
          "base_uri": "https://localhost:8080/"
        },
        "id": "VJNAHJVJjb3T",
        "outputId": "8dc2a377-7139-4ff7-aad2-fe0b1cf0da05"
      },
      "outputs": [
        {
          "name": "stdout",
          "output_type": "stream",
          "text": [
            "torch.Size([672, 19, 6])\n",
            "torch.Size([168, 19, 6])\n"
          ]
        }
      ],
      "source": [
        "node_features = getPSDStacked(X_train).transpose(1,2)\n",
        "node_features_val = getPSDStacked(X_val).transpose(1,2)"
      ]
    },
    {
      "cell_type": "code",
      "execution_count": 615,
      "metadata": {
        "id": "_ttKia4mjb3T"
      },
      "outputs": [
        {
          "name": "stdout",
          "output_type": "stream",
          "text": [
            "torch.Size([672, 6, 19, 19])\n",
            "torch.Size([168, 6, 19, 19])\n"
          ]
        }
      ],
      "source": [
        "adj_matrices = getCoherenceStacked(X_train)\n",
        "adj_matrices_val = getCoherenceStacked(X_val)"
      ]
    },
    {
      "cell_type": "code",
      "execution_count": 616,
      "metadata": {
        "id": "P93BsSG8jb3U"
      },
      "outputs": [
        {
          "name": "stdout",
          "output_type": "stream",
          "text": [
            "torch.Size([672, 6, 19, 19])\n"
          ]
        },
        {
          "name": "stderr",
          "output_type": "stream",
          "text": [
            "/var/folders/pz/bsrlw1051zq7wv21r5cq1y280000gn/T/ipykernel_88615/3968449242.py:4: UserWarning: To copy construct from a tensor, it is recommended to use sourceTensor.clone().detach() or sourceTensor.clone().detach().requires_grad_(True), rather than torch.tensor(sourceTensor).\n",
            "  self.adj_matrices = torch.tensor(adj_matrices, dtype=torch.float32)\n",
            "/var/folders/pz/bsrlw1051zq7wv21r5cq1y280000gn/T/ipykernel_88615/3968449242.py:5: UserWarning: To copy construct from a tensor, it is recommended to use sourceTensor.clone().detach() or sourceTensor.clone().detach().requires_grad_(True), rather than torch.tensor(sourceTensor).\n",
            "  self.node_features = torch.tensor(node_features, dtype=torch.float32)\n"
          ]
        }
      ],
      "source": [
        "# create data loaders from adj_matrices and node_features\n",
        "class EEGDataset(Dataset):\n",
        "    def __init__(self, adj_matrices, node_features, labels):\n",
        "        self.adj_matrices = torch.tensor(adj_matrices, dtype=torch.float32)\n",
        "        self.node_features = torch.tensor(node_features, dtype=torch.float32)\n",
        "        self.labels = torch.tensor(labels.to_list(), dtype=torch.long)\n",
        "        if len(self.adj_matrices) != len(self.labels):\n",
        "            raise ValueError(\"Adjacency matrices and labels must have the same length: {} != {}\".format(len(self.adj_matrices), len(self.labels)))\n",
        "        if len(self.node_features) != len(self.labels):\n",
        "            raise ValueError(\"Node features and labels must have the same length: {} != {}\".format(len(self.node_features), len(self.labels)))\n",
        "\n",
        "    def __len__(self):\n",
        "        return len(self.labels)\n",
        "\n",
        "    def __getitem__(self, idx):\n",
        "        return (self.node_features[idx], self.adj_matrices[idx]), self.labels[idx]\n",
        "\n",
        "print(adj_matrices.shape)\n",
        "train_dataset = EEGDataset(adj_matrices, node_features, y_train)\n",
        "val_dataset = EEGDataset(adj_matrices_val, node_features_val, y_val)\n",
        "\n",
        "train_loader = DataLoader(train_dataset, batch_size=32, shuffle=True)\n",
        "val_loader = DataLoader(val_dataset, batch_size=32, shuffle=False)"
      ]
    },
    {
      "cell_type": "markdown",
      "metadata": {
        "id": "Eh-Osf7vjb3U"
      },
      "source": [
        "## modeling"
      ]
    },
    {
      "cell_type": "code",
      "execution_count": 617,
      "metadata": {
        "id": "N_20-gVdjb3U"
      },
      "outputs": [],
      "source": [
        "class EEGClassifier(nn.Module):\n",
        "    def __init__(self, dropout=0.15):\n",
        "        super(EEGClassifier, self).__init__()\n",
        "\n",
        "        # Define convolutional 2d layers\n",
        "\n",
        "        # 1, 19, 19\n",
        "        self.conv1 = nn.ModuleList([\n",
        "            nn.Conv2d(in_channels=1, out_channels=16, kernel_size=(4, 4))\n",
        "            for _ in range(6)\n",
        "        ])\n",
        "        # 8, 16, 16\n",
        "        self.maxpools1 = nn.ModuleList([nn.MaxPool2d(kernel_size=(2, 2)) for _ in range(6)])\n",
        "        # 8, 8, 8\n",
        "\n",
        "        self.conv2 = nn.ModuleList([\n",
        "            nn.Conv2d(in_channels=16, out_channels=32, kernel_size=(3, 3))\n",
        "            for _ in range(6)\n",
        "        ])\n",
        "        # 16, 6, 6\n",
        "        self.maxpools2 = nn.ModuleList([nn.MaxPool2d(kernel_size=(2, 2)) for _ in range(6)])\n",
        "        self.batchnorms = nn.ModuleList([nn.BatchNorm2d(32) for _ in range(6)])\n",
        "        # 16, 3, 3\n",
        "        self.flatten = nn.Flatten()\n",
        "        # 144\n",
        "        self.coh_linears1 = nn.ModuleList([\n",
        "            nn.Linear(288, 128)\n",
        "            for _ in range(6)\n",
        "        ])\n",
        "        self.coh_linears2 = nn.ModuleList([\n",
        "            nn.Linear(128, 64)\n",
        "            for _ in range(6)\n",
        "        ])\n",
        "        self.psd_linears = nn.ModuleList([\n",
        "            nn.Linear(19, 32)\n",
        "            for _ in range(6)\n",
        "        ])\n",
        "        self.band_linears = nn.ModuleList([\n",
        "            nn.Linear(96, 64)\n",
        "            for _ in range(6)\n",
        "        ])\n",
        "\n",
        "        self.bn1 = nn.BatchNorm1d(64 * 6)\n",
        "\n",
        "        # Define linear layers\n",
        "        self.layer1 = nn.Linear(64 * 6, 128)\n",
        "\n",
        "        self.bn2 = nn.BatchNorm1d(128)\n",
        "\n",
        "        self.layer2 = nn.Linear(128, 32)\n",
        "\n",
        "        self.bn3 = nn.BatchNorm1d(32)\n",
        "\n",
        "        self.layer3 = nn.Linear(32, 7)\n",
        "\n",
        "        self.gelu = nn.GELU()\n",
        "\n",
        "        self.dropout = nn.Dropout(p=dropout)\n",
        "\n",
        "    def forward(self, x_psd, x_adj):\n",
        "        # x_psd is the PSD data, 6 x 19 tensor\n",
        "        # x_adj is the adjacency matrix data, 6 x 19 x 19 tensor\n",
        "\n",
        "        # Process psds\n",
        "        x_psds = [None for _ in range(6)]\n",
        "        for i in range(6):\n",
        "            x_psds[i] = self.psd_linears[i](x_psd[:,i])\n",
        "            x_psds[i] = self.gelu(x_psds[i])\n",
        "            x_psds[i] = self.dropout(x_psds[i])\n",
        "\n",
        "        # Process adjacency matrices\n",
        "        x_adjs = [None for _ in range(6)]\n",
        "        for i in range(6):\n",
        "            x_adjs[i] = self.conv1[i](x_adj[:,i].unsqueeze(1))\n",
        "            x_adjs[i] = self.maxpools1[i](x_adjs[i])\n",
        "            x_adjs[i] = self.conv2[i](x_adjs[i])\n",
        "            x_adjs[i] = self.maxpools2[i](x_adjs[i])\n",
        "            x_adjs[i] = self.gelu(x_adjs[i])\n",
        "            x_adjs[i] = self.batchnorms[i](x_adjs[i])\n",
        "            x_adjs[i] = self.flatten(x_adjs[i])\n",
        "            x_adjs[i] = self.coh_linears1[i](x_adjs[i])\n",
        "            x_adjs[i] = self.gelu(x_adjs[i])\n",
        "            x_adjs[i] = self.coh_linears2[i](x_adjs[i])\n",
        "            x_adjs[i] = self.gelu(x_adjs[i])\n",
        "            x_adjs[i] = self.dropout(x_adjs[i])\n",
        "\n",
        "        x_bands = [None for _ in range(6)]\n",
        "        for i in range(6):\n",
        "            x_bands[i] = torch.cat([x_psds[i], x_adjs[i]], axis=1)\n",
        "            x_bands[i] = self.band_linears[i](x_bands[i])\n",
        "            x_bands[i] = self.gelu(x_bands[i])\n",
        "\n",
        "        # Concatenate the two\n",
        "        x = torch.cat(x_bands, axis=1)\n",
        "\n",
        "        x = self.bn1(x)\n",
        "\n",
        "        # Apply more linear layers\n",
        "        x = self.layer1(x)\n",
        "        x = self.gelu(x)\n",
        "        x = self.dropout(x)\n",
        "\n",
        "        x = self.layer2(x)\n",
        "        x = self.gelu(x)\n",
        "        x = self.dropout(x)\n",
        "\n",
        "        x = self.layer3(x)\n",
        "\n",
        "        return x"
      ]
    },
    {
      "cell_type": "code",
      "execution_count": 618,
      "metadata": {
        "id": "XuX0tgKhjb3U"
      },
      "outputs": [
        {
          "name": "stdout",
          "output_type": "stream",
          "text": [
            "EEGClassifier(\n",
            "  (conv1): ModuleList(\n",
            "    (0-5): 6 x Conv2d(1, 16, kernel_size=(4, 4), stride=(1, 1))\n",
            "  )\n",
            "  (maxpools1): ModuleList(\n",
            "    (0-5): 6 x MaxPool2d(kernel_size=(2, 2), stride=(2, 2), padding=0, dilation=1, ceil_mode=False)\n",
            "  )\n",
            "  (conv2): ModuleList(\n",
            "    (0-5): 6 x Conv2d(16, 32, kernel_size=(3, 3), stride=(1, 1))\n",
            "  )\n",
            "  (maxpools2): ModuleList(\n",
            "    (0-5): 6 x MaxPool2d(kernel_size=(2, 2), stride=(2, 2), padding=0, dilation=1, ceil_mode=False)\n",
            "  )\n",
            "  (batchnorms): ModuleList(\n",
            "    (0-5): 6 x BatchNorm2d(32, eps=1e-05, momentum=0.1, affine=True, track_running_stats=True)\n",
            "  )\n",
            "  (flatten): Flatten(start_dim=1, end_dim=-1)\n",
            "  (coh_linears1): ModuleList(\n",
            "    (0-5): 6 x Linear(in_features=288, out_features=128, bias=True)\n",
            "  )\n",
            "  (coh_linears2): ModuleList(\n",
            "    (0-5): 6 x Linear(in_features=128, out_features=64, bias=True)\n",
            "  )\n",
            "  (psd_linears): ModuleList(\n",
            "    (0-5): 6 x Linear(in_features=19, out_features=32, bias=True)\n",
            "  )\n",
            "  (band_linears): ModuleList(\n",
            "    (0-5): 6 x Linear(in_features=96, out_features=64, bias=True)\n",
            "  )\n",
            "  (bn1): BatchNorm1d(384, eps=1e-05, momentum=0.1, affine=True, track_running_stats=True)\n",
            "  (layer1): Linear(in_features=384, out_features=128, bias=True)\n",
            "  (bn2): BatchNorm1d(128, eps=1e-05, momentum=0.1, affine=True, track_running_stats=True)\n",
            "  (layer2): Linear(in_features=128, out_features=32, bias=True)\n",
            "  (bn3): BatchNorm1d(32, eps=1e-05, momentum=0.1, affine=True, track_running_stats=True)\n",
            "  (layer3): Linear(in_features=32, out_features=7, bias=True)\n",
            "  (gelu): GELU(approximate='none')\n",
            "  (dropout): Dropout(p=0.15, inplace=False)\n",
            ")\n",
            "397159\n"
          ]
        }
      ],
      "source": [
        "# Initialize the model\n",
        "model = EEGClassifier()\n",
        "# Print the model\n",
        "print(model)\n",
        "# how many parameters?\n",
        "pytorch_total_params = sum(p.numel() for p in model.parameters())\n",
        "print(pytorch_total_params)"
      ]
    },
    {
      "cell_type": "code",
      "execution_count": 619,
      "metadata": {
        "id": "S7ONccD5jb3U"
      },
      "outputs": [
        {
          "name": "stdout",
          "output_type": "stream",
          "text": [
            "tensor([[-0.0565,  0.1572, -0.0964,  0.0394,  0.2133, -0.2478,  0.1511],\n",
            "        [-0.0306,  0.0138,  0.0860, -0.0126,  0.1266, -0.0250,  0.0769]],\n",
            "       grad_fn=<AddmmBackward0>)\n"
          ]
        }
      ],
      "source": [
        "# Pass through random data\n",
        "x_psd = torch.randn(2, 6, 19)\n",
        "x_adj = torch.randn(2, 6, 19, 19)\n",
        "output = model(x_psd, x_adj)\n",
        "print(output)"
      ]
    },
    {
      "cell_type": "code",
      "execution_count": 620,
      "metadata": {
        "id": "C7j55WZujb3V"
      },
      "outputs": [
        {
          "name": "stderr",
          "output_type": "stream",
          "text": [
            "/Users/hamsterlord/.pyenv/versions/3.10.4/Library/Frameworks/Python.framework/Versions/3.10/lib/python3.10/site-packages/torch/optim/lr_scheduler.py:28: UserWarning: The verbose parameter is deprecated. Please use get_last_lr() to access the learning rate.\n",
            "  warnings.warn(\"The verbose parameter is deprecated. Please use get_last_lr() \"\n"
          ]
        }
      ],
      "source": [
        "criterion = nn.CrossEntropyLoss()\n",
        "\n",
        "optimizer = optim.Adam(model.parameters(),\n",
        "                       lr=0.00004,\n",
        "                       weight_decay=1e-5)\n",
        "\n",
        "scheduler = ReduceLROnPlateau(optimizer,\n",
        "                              mode='min',\n",
        "                              factor = 0.1,\n",
        "                              patience = 3,\n",
        "                              min_lr = 1e-5,\n",
        "                              verbose = True)"
      ]
    },
    {
      "cell_type": "code",
      "execution_count": 621,
      "metadata": {
        "id": "ISh2zBRgjb3V"
      },
      "outputs": [
        {
          "name": "stdout",
          "output_type": "stream",
          "text": [
            "672\n",
            "torch.Size([32, 6, 19])\n",
            "torch.Size([32, 6, 19, 19])\n",
            "torch.Size([32])\n"
          ]
        }
      ],
      "source": [
        "print(len(train_dataset))\n",
        "for data in train_loader:\n",
        "    (adj_matrices, node_features), labels = data\n",
        "    print(adj_matrices.shape)\n",
        "    print(node_features.shape)\n",
        "    print(labels.shape)\n",
        "    break"
      ]
    },
    {
      "cell_type": "code",
      "execution_count": 622,
      "metadata": {
        "id": "uNyih7WFjb3V"
      },
      "outputs": [
        {
          "name": "stdout",
          "output_type": "stream",
          "text": [
            "Epoch [1/500], Loss: 1.9862, Acc: 0.0848\n",
            "Validation Loss: 1.9724, Validation Accuracy: 0.0729\n",
            "\n",
            "Epoch [6/500], Loss: 1.9546, Acc: 0.1399\n",
            "Validation Loss: 1.9507, Validation Accuracy: 0.1771\n",
            "\n",
            "Epoch [11/500], Loss: 1.9193, Acc: 0.1935\n",
            "Validation Loss: 1.9226, Validation Accuracy: 0.2396\n",
            "\n",
            "Epoch [16/500], Loss: 1.8895, Acc: 0.2470\n",
            "Validation Loss: 1.8940, Validation Accuracy: 0.2083\n",
            "\n",
            "Epoch [21/500], Loss: 1.8611, Acc: 0.2812\n",
            "Validation Loss: 1.8666, Validation Accuracy: 0.2708\n",
            "\n",
            "Epoch [26/500], Loss: 1.8158, Acc: 0.3185\n",
            "Validation Loss: 1.8474, Validation Accuracy: 0.3073\n",
            "\n",
            "Epoch [31/500], Loss: 1.7827, Acc: 0.3229\n",
            "Validation Loss: 1.8317, Validation Accuracy: 0.3021\n",
            "\n",
            "Epoch [36/500], Loss: 1.7552, Acc: 0.3333\n",
            "Validation Loss: 1.8211, Validation Accuracy: 0.3021\n",
            "\n",
            "Epoch [41/500], Loss: 1.7143, Acc: 0.3467\n",
            "Validation Loss: 1.8204, Validation Accuracy: 0.2969\n",
            "\n",
            "Epoch [46/500], Loss: 1.6472, Acc: 0.3854\n",
            "Validation Loss: 1.8139, Validation Accuracy: 0.2917\n",
            "\n",
            "Epoch [51/500], Loss: 1.5714, Acc: 0.4048\n",
            "Validation Loss: 1.8208, Validation Accuracy: 0.2500\n",
            "\n",
            "Epoch [56/500], Loss: 1.5476, Acc: 0.4226\n",
            "Validation Loss: 1.8213, Validation Accuracy: 0.2500\n",
            "\n",
            "Epoch [61/500], Loss: 1.5130, Acc: 0.4330\n",
            "Validation Loss: 1.8249, Validation Accuracy: 0.2552\n",
            "\n",
            "Epoch [66/500], Loss: 1.5130, Acc: 0.4315\n",
            "Validation Loss: 1.8265, Validation Accuracy: 0.2500\n",
            "\n",
            "Epoch [71/500], Loss: 1.4812, Acc: 0.4568\n",
            "Validation Loss: 1.8353, Validation Accuracy: 0.2656\n",
            "\n",
            "Epoch [76/500], Loss: 1.4760, Acc: 0.4539\n",
            "Validation Loss: 1.8378, Validation Accuracy: 0.2500\n",
            "\n",
            "Epoch [81/500], Loss: 1.4474, Acc: 0.4688\n",
            "Validation Loss: 1.8427, Validation Accuracy: 0.2344\n",
            "\n",
            "Epoch [86/500], Loss: 1.4318, Acc: 0.4792\n",
            "Validation Loss: 1.8490, Validation Accuracy: 0.2500\n",
            "\n",
            "Epoch [91/500], Loss: 1.4103, Acc: 0.5000\n",
            "Validation Loss: 1.8496, Validation Accuracy: 0.2396\n",
            "\n",
            "Epoch [96/500], Loss: 1.3842, Acc: 0.5119\n",
            "Validation Loss: 1.8567, Validation Accuracy: 0.2500\n",
            "\n",
            "Epoch [101/500], Loss: 1.3569, Acc: 0.5074\n",
            "Validation Loss: 1.8554, Validation Accuracy: 0.2604\n",
            "\n",
            "Epoch [106/500], Loss: 1.3685, Acc: 0.4985\n",
            "Validation Loss: 1.8586, Validation Accuracy: 0.2500\n",
            "\n",
            "Epoch [111/500], Loss: 1.3246, Acc: 0.5372\n",
            "Validation Loss: 1.8670, Validation Accuracy: 0.2344\n",
            "\n",
            "Epoch [116/500], Loss: 1.3036, Acc: 0.5476\n",
            "Validation Loss: 1.8768, Validation Accuracy: 0.2500\n",
            "\n",
            "Epoch [121/500], Loss: 1.3068, Acc: 0.5342\n",
            "Validation Loss: 1.8841, Validation Accuracy: 0.2448\n",
            "\n",
            "Epoch [126/500], Loss: 1.2838, Acc: 0.5193\n",
            "Validation Loss: 1.9018, Validation Accuracy: 0.2604\n",
            "\n",
            "Epoch [131/500], Loss: 1.2465, Acc: 0.5670\n",
            "Validation Loss: 1.9138, Validation Accuracy: 0.2708\n",
            "\n",
            "Epoch [136/500], Loss: 1.2266, Acc: 0.5655\n",
            "Validation Loss: 1.9222, Validation Accuracy: 0.2396\n",
            "\n",
            "Epoch [141/500], Loss: 1.2173, Acc: 0.5789\n",
            "Validation Loss: 1.9207, Validation Accuracy: 0.2708\n",
            "\n",
            "Epoch [146/500], Loss: 1.1879, Acc: 0.6086\n",
            "Validation Loss: 1.9380, Validation Accuracy: 0.2656\n",
            "\n",
            "Epoch [151/500], Loss: 1.1649, Acc: 0.5804\n",
            "Validation Loss: 1.9597, Validation Accuracy: 0.2812\n",
            "\n",
            "Epoch [156/500], Loss: 1.1450, Acc: 0.6146\n",
            "Validation Loss: 1.9761, Validation Accuracy: 0.2760\n",
            "\n",
            "Epoch [161/500], Loss: 1.1252, Acc: 0.6086\n",
            "Validation Loss: 1.9729, Validation Accuracy: 0.2344\n",
            "\n",
            "Epoch [166/500], Loss: 1.0904, Acc: 0.6235\n",
            "Validation Loss: 2.0029, Validation Accuracy: 0.2708\n",
            "\n",
            "Epoch [171/500], Loss: 1.1146, Acc: 0.6086\n",
            "Validation Loss: 2.0232, Validation Accuracy: 0.2552\n",
            "\n",
            "Epoch [176/500], Loss: 1.0786, Acc: 0.6235\n",
            "Validation Loss: 2.0415, Validation Accuracy: 0.2292\n",
            "\n",
            "Epoch [181/500], Loss: 1.0538, Acc: 0.6295\n",
            "Validation Loss: 2.0363, Validation Accuracy: 0.2500\n",
            "\n",
            "Epoch [186/500], Loss: 1.0256, Acc: 0.6518\n",
            "Validation Loss: 2.0681, Validation Accuracy: 0.2344\n",
            "\n",
            "Epoch [191/500], Loss: 1.0147, Acc: 0.6414\n",
            "Validation Loss: 2.0785, Validation Accuracy: 0.2552\n",
            "\n",
            "Epoch [196/500], Loss: 0.9932, Acc: 0.6607\n",
            "Validation Loss: 2.0980, Validation Accuracy: 0.2292\n",
            "\n",
            "Epoch [201/500], Loss: 0.9620, Acc: 0.6905\n",
            "Validation Loss: 2.1280, Validation Accuracy: 0.2396\n",
            "\n",
            "Epoch [206/500], Loss: 0.9238, Acc: 0.6875\n",
            "Validation Loss: 2.1456, Validation Accuracy: 0.2552\n",
            "\n",
            "Epoch [211/500], Loss: 0.9219, Acc: 0.6994\n",
            "Validation Loss: 2.1690, Validation Accuracy: 0.2448\n",
            "\n",
            "Epoch [216/500], Loss: 0.9124, Acc: 0.6964\n",
            "Validation Loss: 2.1992, Validation Accuracy: 0.2344\n",
            "\n",
            "Epoch [221/500], Loss: 0.8936, Acc: 0.7143\n",
            "Validation Loss: 2.2314, Validation Accuracy: 0.2135\n",
            "\n",
            "Epoch [226/500], Loss: 0.8640, Acc: 0.7292\n",
            "Validation Loss: 2.2358, Validation Accuracy: 0.2240\n",
            "\n",
            "Epoch [231/500], Loss: 0.8260, Acc: 0.7321\n",
            "Validation Loss: 2.2853, Validation Accuracy: 0.2135\n",
            "\n",
            "Epoch [236/500], Loss: 0.8320, Acc: 0.7381\n",
            "Validation Loss: 2.2890, Validation Accuracy: 0.1979\n",
            "\n",
            "Epoch [241/500], Loss: 0.7949, Acc: 0.7515\n",
            "Validation Loss: 2.3193, Validation Accuracy: 0.2135\n",
            "\n",
            "Epoch [246/500], Loss: 0.7682, Acc: 0.7604\n",
            "Validation Loss: 2.3180, Validation Accuracy: 0.2188\n",
            "\n",
            "Epoch [251/500], Loss: 0.7540, Acc: 0.7649\n",
            "Validation Loss: 2.3680, Validation Accuracy: 0.2031\n",
            "\n",
            "Epoch [256/500], Loss: 0.7203, Acc: 0.7842\n",
            "Validation Loss: 2.4359, Validation Accuracy: 0.1927\n",
            "\n",
            "Epoch [261/500], Loss: 0.7090, Acc: 0.7857\n",
            "Validation Loss: 2.4102, Validation Accuracy: 0.2135\n",
            "\n",
            "Epoch [266/500], Loss: 0.7204, Acc: 0.7872\n",
            "Validation Loss: 2.4571, Validation Accuracy: 0.2188\n",
            "\n",
            "Epoch [271/500], Loss: 0.6774, Acc: 0.7991\n",
            "Validation Loss: 2.4864, Validation Accuracy: 0.2031\n",
            "\n",
            "Epoch [276/500], Loss: 0.6491, Acc: 0.8036\n",
            "Validation Loss: 2.5499, Validation Accuracy: 0.2240\n",
            "\n",
            "Epoch [281/500], Loss: 0.6590, Acc: 0.7946\n",
            "Validation Loss: 2.5427, Validation Accuracy: 0.1927\n",
            "\n",
            "Epoch [286/500], Loss: 0.6472, Acc: 0.8170\n",
            "Validation Loss: 2.5682, Validation Accuracy: 0.2135\n",
            "\n",
            "Epoch [291/500], Loss: 0.6053, Acc: 0.8289\n",
            "Validation Loss: 2.6497, Validation Accuracy: 0.1979\n",
            "\n",
            "Epoch [296/500], Loss: 0.5820, Acc: 0.8289\n",
            "Validation Loss: 2.6298, Validation Accuracy: 0.2031\n",
            "\n",
            "Epoch [301/500], Loss: 0.5854, Acc: 0.8170\n",
            "Validation Loss: 2.6477, Validation Accuracy: 0.1979\n",
            "\n",
            "Epoch [306/500], Loss: 0.5615, Acc: 0.8229\n",
            "Validation Loss: 2.7582, Validation Accuracy: 0.2031\n",
            "\n",
            "Epoch [311/500], Loss: 0.5352, Acc: 0.8557\n",
            "Validation Loss: 2.8282, Validation Accuracy: 0.1771\n",
            "\n",
            "Epoch [316/500], Loss: 0.5359, Acc: 0.8363\n",
            "Validation Loss: 2.8688, Validation Accuracy: 0.1771\n",
            "\n",
            "Epoch [321/500], Loss: 0.5115, Acc: 0.8720\n",
            "Validation Loss: 2.8235, Validation Accuracy: 0.2031\n",
            "\n",
            "Epoch [326/500], Loss: 0.5138, Acc: 0.8616\n",
            "Validation Loss: 2.8934, Validation Accuracy: 0.1667\n",
            "\n",
            "Epoch [331/500], Loss: 0.4932, Acc: 0.8646\n",
            "Validation Loss: 2.9534, Validation Accuracy: 0.1927\n",
            "\n",
            "Epoch [336/500], Loss: 0.4755, Acc: 0.8527\n",
            "Validation Loss: 2.9594, Validation Accuracy: 0.2031\n",
            "\n",
            "Epoch [341/500], Loss: 0.4671, Acc: 0.8839\n",
            "Validation Loss: 2.9772, Validation Accuracy: 0.1875\n",
            "\n",
            "Epoch [346/500], Loss: 0.4588, Acc: 0.8631\n",
            "Validation Loss: 3.0167, Validation Accuracy: 0.1823\n",
            "\n",
            "Epoch [351/500], Loss: 0.4392, Acc: 0.8661\n",
            "Validation Loss: 3.0668, Validation Accuracy: 0.1823\n",
            "\n",
            "Epoch [356/500], Loss: 0.4217, Acc: 0.8690\n",
            "Validation Loss: 3.0624, Validation Accuracy: 0.1927\n",
            "\n",
            "Epoch [361/500], Loss: 0.4058, Acc: 0.8854\n",
            "Validation Loss: 3.1775, Validation Accuracy: 0.1927\n",
            "\n",
            "Epoch [366/500], Loss: 0.4025, Acc: 0.8943\n",
            "Validation Loss: 3.1976, Validation Accuracy: 0.1823\n",
            "\n",
            "Epoch [371/500], Loss: 0.3945, Acc: 0.8988\n",
            "Validation Loss: 3.2549, Validation Accuracy: 0.1875\n",
            "\n",
            "Epoch [376/500], Loss: 0.3641, Acc: 0.8988\n",
            "Validation Loss: 3.2974, Validation Accuracy: 0.1771\n",
            "\n",
            "Epoch [381/500], Loss: 0.3667, Acc: 0.9062\n",
            "Validation Loss: 3.3080, Validation Accuracy: 0.1875\n",
            "\n",
            "Epoch [386/500], Loss: 0.3471, Acc: 0.9196\n",
            "Validation Loss: 3.3143, Validation Accuracy: 0.2031\n",
            "\n",
            "Epoch [391/500], Loss: 0.3230, Acc: 0.9092\n",
            "Validation Loss: 3.4073, Validation Accuracy: 0.1927\n",
            "\n",
            "Epoch [396/500], Loss: 0.3310, Acc: 0.9167\n",
            "Validation Loss: 3.4214, Validation Accuracy: 0.1823\n",
            "\n",
            "Epoch [401/500], Loss: 0.2857, Acc: 0.9390\n",
            "Validation Loss: 3.4805, Validation Accuracy: 0.1823\n",
            "\n",
            "Epoch [406/500], Loss: 0.3254, Acc: 0.9107\n",
            "Validation Loss: 3.5211, Validation Accuracy: 0.1875\n",
            "\n",
            "Epoch [411/500], Loss: 0.2958, Acc: 0.9122\n",
            "Validation Loss: 3.4571, Validation Accuracy: 0.2031\n",
            "\n",
            "Epoch [416/500], Loss: 0.2956, Acc: 0.9271\n",
            "Validation Loss: 3.5930, Validation Accuracy: 0.1875\n",
            "\n",
            "Epoch [421/500], Loss: 0.2646, Acc: 0.9345\n",
            "Validation Loss: 3.5567, Validation Accuracy: 0.1771\n",
            "\n",
            "Epoch [426/500], Loss: 0.2664, Acc: 0.9360\n",
            "Validation Loss: 3.6404, Validation Accuracy: 0.1771\n",
            "\n",
            "Epoch [431/500], Loss: 0.2623, Acc: 0.9345\n",
            "Validation Loss: 3.6134, Validation Accuracy: 0.1823\n",
            "\n",
            "Epoch [436/500], Loss: 0.2336, Acc: 0.9479\n",
            "Validation Loss: 3.6116, Validation Accuracy: 0.1719\n",
            "\n",
            "Epoch [441/500], Loss: 0.2205, Acc: 0.9524\n",
            "Validation Loss: 3.6871, Validation Accuracy: 0.1979\n",
            "\n",
            "Epoch [446/500], Loss: 0.2347, Acc: 0.9479\n",
            "Validation Loss: 3.7200, Validation Accuracy: 0.1875\n",
            "\n",
            "Epoch [451/500], Loss: 0.2086, Acc: 0.9554\n",
            "Validation Loss: 3.7583, Validation Accuracy: 0.1771\n",
            "\n",
            "Epoch [456/500], Loss: 0.2018, Acc: 0.9554\n",
            "Validation Loss: 3.8377, Validation Accuracy: 0.1875\n",
            "\n",
            "Epoch [461/500], Loss: 0.2033, Acc: 0.9539\n",
            "Validation Loss: 3.9392, Validation Accuracy: 0.1771\n",
            "\n",
            "Epoch [466/500], Loss: 0.1806, Acc: 0.9643\n",
            "Validation Loss: 3.9739, Validation Accuracy: 0.2135\n",
            "\n",
            "Epoch [471/500], Loss: 0.1646, Acc: 0.9673\n",
            "Validation Loss: 4.0092, Validation Accuracy: 0.1667\n",
            "\n",
            "Epoch [476/500], Loss: 0.1507, Acc: 0.9792\n",
            "Validation Loss: 4.0137, Validation Accuracy: 0.1875\n",
            "\n",
            "Epoch [481/500], Loss: 0.1775, Acc: 0.9583\n",
            "Validation Loss: 4.0964, Validation Accuracy: 0.1667\n",
            "\n",
            "Epoch [486/500], Loss: 0.1549, Acc: 0.9702\n",
            "Validation Loss: 4.1748, Validation Accuracy: 0.1771\n",
            "\n",
            "Epoch [491/500], Loss: 0.1431, Acc: 0.9747\n",
            "Validation Loss: 4.1280, Validation Accuracy: 0.1562\n",
            "\n",
            "Epoch [496/500], Loss: 0.1399, Acc: 0.9732\n",
            "Validation Loss: 4.2137, Validation Accuracy: 0.1927\n",
            "\n"
          ]
        }
      ],
      "source": [
        "best_loss = np.inf\n",
        "patience = 20\n",
        "min_delta = 0.01\n",
        "early_stop_counter = 0\n",
        "\n",
        "train_losses = []\n",
        "train_accs = []\n",
        "val_losses = []\n",
        "val_accs = []\n",
        "final_epoch = 0\n",
        "\n",
        "num_epochs = 500\n",
        "\n",
        "for epoch in range(num_epochs):\n",
        "\n",
        "    # train\n",
        "    model.train()\n",
        "    running_loss = 0.\n",
        "    running_accuracy = 0.\n",
        "\n",
        "    for data in train_loader:\n",
        "        inputs, labels = data\n",
        "\n",
        "        optimizer.zero_grad()  # zero gradients\n",
        "\n",
        "        outputs = model.forward(*inputs)  # input net\n",
        "\n",
        "        labels = labels.long()\n",
        "\n",
        "        loss = criterion(outputs, labels)\n",
        "        loss.backward()\n",
        "\n",
        "        outputs = F.softmax(outputs, dim=1)\n",
        "        top_p, top_class = outputs.topk(k=1, dim=1)\n",
        "\n",
        "        optimizer.step()\n",
        "\n",
        "        running_loss += loss.item()\n",
        "\n",
        "        _, predicted = torch.max(outputs.data, 1)\n",
        "        accuracy = (predicted == labels).float().sum()\n",
        "        running_accuracy += accuracy.item()\n",
        "\n",
        "    epoch_loss = running_loss / len(train_loader)\n",
        "    epoch_accuracy = running_accuracy / len(train_dataset)\n",
        "    train_accs.append(epoch_accuracy)\n",
        "\n",
        "    if epoch % 5 == 0:\n",
        "        print(f\"Epoch [{epoch + 1}/{num_epochs}], Loss: {epoch_loss:.4f}, Acc: {epoch_accuracy:.4f}\")\n",
        "    train_losses.append(epoch_loss)\n",
        "\n",
        "    # val\n",
        "    model.eval()\n",
        "    val_loss = 0.0\n",
        "    val_accuracy = 0.0\n",
        "    correct = total = 0\n",
        "\n",
        "    with torch.no_grad():\n",
        "        for data in val_loader:\n",
        "            inputs, labels = data\n",
        "\n",
        "            outputs = model(*inputs)\n",
        "\n",
        "            loss = criterion(outputs, labels)\n",
        "            val_loss += loss.item()\n",
        "\n",
        "            _, predicted = torch.max(outputs.data, 1)\n",
        "\n",
        "            accuracy = (predicted == labels).float().mean()\n",
        "            val_accuracy += accuracy.item()\n",
        "\n",
        "    val_loss /= len(val_loader)\n",
        "    val_accuracy /= len(val_loader)\n",
        "\n",
        "    if epoch % 5 == 0:\n",
        "        print(f\"Validation Loss: {val_loss:.4f}, Validation Accuracy: {val_accuracy:.4f}\\n\")\n",
        "    val_losses.append(val_loss)\n",
        "    val_accs.append(val_accuracy)\n",
        "\n",
        "\n",
        "    # Early stopping\n",
        "    if val_loss < best_loss - min_delta:\n",
        "        best_loss = val_loss\n",
        "        early_stop_counter = 0\n",
        "        #best_model_state = model.state_dict()\n",
        "    else:\n",
        "        early_stop_counter += 1\n",
        "\n",
        "    # if early_stop_counter >= patience:\n",
        "    #     print(f\"Early stopping at epoch {epoch+1}.\")\n",
        "    #     final_epoch = epoch+1\n",
        "    #     #model.load_state_dict(best_model_state)\n",
        "    #     break\n",
        "\n",
        "    scheduler.step(val_loss)"
      ]
    },
    {
      "cell_type": "code",
      "execution_count": 623,
      "metadata": {
        "id": "2b0EgE8Ijb3V"
      },
      "outputs": [
        {
          "data": {
            "image/png": "[encoded data removed]",
            "text/plain": [
              "<Figure size 640x480 with 1 Axes>"
            ]
          },
          "metadata": {},
          "output_type": "display_data"
        },
        {
          "data": {
            "image/png": "[encoded data removed]",
            "text/plain": [
              "<Figure size 640x480 with 1 Axes>"
            ]
          },
          "metadata": {},
          "output_type": "display_data"
        }
      ],
      "source": [
        "# plot accuracy and loss\n",
        "import matplotlib.pyplot as plt\n",
        "\n",
        "plt.plot(train_losses, label='Training loss')\n",
        "plt.plot(val_losses, label='Validation loss')\n",
        "plt.legend()\n",
        "plt.show()\n",
        "\n",
        "plt.plot(train_accs, label='Training accuracy')\n",
        "plt.plot(val_accs, label='Validation accuracy')\n",
        "plt.legend()\n",
        "plt.show()"
      ]
    },
    {
      "cell_type": "code",
      "execution_count": 624,
      "metadata": {
        "id": "Q1xGKyyKjb3W"
      },
      "outputs": [
        {
          "data": {
            "text/plain": [
              "0.328125"
            ]
          },
          "execution_count": 624,
          "metadata": {},
          "output_type": "execute_result"
        }
      ],
      "source": [
        "max(val_accs)"
      ]
    }
  ],
  "metadata": {
    "accelerator": "GPU",
    "colab": {
      "gpuType": "T4",
      "provenance": []
    },
    "kernelspec": {
      "display_name": "Python 3",
      "name": "python3"
    },
    "language_info": {
      "codemirror_mode": {
        "name": "ipython",
        "version": 3
      },
      "file_extension": ".py",
      "mimetype": "text/x-python",
      "name": "python",
      "nbconvert_exporter": "python",
      "pygments_lexer": "ipython3",
      "version": "3.10.4"
    }
  },
  "nbformat": 4,
  "nbformat_minor": 0
}
