{
 "cells": [
  {
   "cell_type": "code",
   "execution_count": 383,
   "metadata": {},
   "outputs": [],
   "source": [
    "import torch\n",
    "import torch.nn as nn\n",
    "import torch.nn.init as init\n",
    "import torch.optim as optim\n",
    "import torch.nn.functional as F\n",
    "# torhc dataset\n",
    "from torch.utils.data import Dataset, DataLoader\n",
    "\n",
    "# train test split\n",
    "from sklearn.model_selection import train_test_split\n",
    "\n",
    "from torch.optim.lr_scheduler import ReduceLROnPlateau\n",
    "\n",
    "import pandas as pd\n",
    "from sklearn.decomposition import PCA\n",
    "from imblearn.over_sampling import SMOTE\n",
    "from torchviz import make_dot\n",
    "\n",
    "#import summary for models \n",
    "from torchsummary import summary\n",
    "\n",
    "import numpy as np\n",
    "from sklearn.preprocessing import StandardScaler, OrdinalEncoder"
   ]
  },
  {
   "cell_type": "code",
   "execution_count": 384,
   "metadata": {},
   "outputs": [],
   "source": [
    "all_data = pd.read_csv(\"../Data/Train_and_Validate_EEG.csv\", index_col=0).drop(\"Unnamed: 122\",axis=1)\n",
    "data = all_data.drop(['sex','eeg.date','education','specific.disorder'], axis=1).dropna(axis=0)\n",
    "\n",
    "# Encode disorders\n",
    "encoder = OrdinalEncoder()\n",
    "data[['main.disorder']] = encoder.fit_transform(data[['main.disorder']])\n",
    "\n",
    "X = data.drop(['main.disorder'], axis=1).dropna(axis=0)\n",
    "y = data['main.disorder']\n",
    "X_train, X_val, y_train, y_val = train_test_split(X, y, test_size=0.2, random_state=42)"
   ]
  },
  {
   "cell_type": "code",
   "execution_count": 385,
   "metadata": {},
   "outputs": [],
   "source": [
    "bands = ['gamma', 'highbeta', 'beta', 'alpha', 'theta', 'delta']\n",
    "bands2 = ['F.gamma', 'E.highbeta', 'D.beta', 'C.alpha', 'B.theta', 'A.delta']\n",
    "\n",
    "# Separate column names based on whether they are PSD or coherence\n",
    "AB_per_band = {}\n",
    "AB_cols = []\n",
    "COH_per_band = {}\n",
    "COH_cols = []\n",
    "\n",
    "for band in bands:\n",
    "    AB_per_band[band] = []\n",
    "    COH_per_band[band] = []\n",
    "\n",
    "for col_name in X_train.drop(['age','IQ'], axis=1).columns:\n",
    "    col_split = col_name.split('.')\n",
    "    if col_split[0] == 'AB':\n",
    "        AB_per_band[col_split[2]].append(col_name)\n",
    "        AB_cols.append(col_name)\n",
    "    else:\n",
    "        COH_per_band[col_split[2]].append(col_name)\n",
    "        COH_cols.append(col_name)"
   ]
  },
  {
   "cell_type": "code",
   "execution_count": 386,
   "metadata": {},
   "outputs": [
    {
     "data": {
      "text/plain": [
       "19"
      ]
     },
     "execution_count": 386,
     "metadata": {},
     "output_type": "execute_result"
    }
   ],
   "source": [
    "# Get all electrode names\n",
    "electrodes = set()\n",
    "for col in COH_cols:\n",
    "    col_split = col.split('.')\n",
    "    # elec1 = col_split[4]\n",
    "    electrodes.add(col_split[3]+'.'+col_split[4])\n",
    "    # elec2 = col_split[6]\n",
    "    electrodes.add(col_split[5]+'.'+col_split[6])\n",
    "\n",
    "electrodes = list(electrodes)\n",
    "len(electrodes)"
   ]
  },
  {
   "cell_type": "markdown",
   "metadata": {},
   "source": [
    "## data preprocessing\n",
    "coherence data shape = [num individuals, frequency bands, electrodes, electrodes]\n",
    "PSD data shape = [num individuals, frequency bands, electrodes]"
   ]
  },
  {
   "cell_type": "code",
   "execution_count": 387,
   "metadata": {},
   "outputs": [],
   "source": [
    "num_samples = X_train.shape[0]\n",
    "num_nodes = len(electrodes)\n",
    "num_bands = len(bands)"
   ]
  },
  {
   "cell_type": "code",
   "execution_count": 388,
   "metadata": {},
   "outputs": [],
   "source": [
    "def getCoherenceStacked(coherence):\n",
    "    adj_tensors = []\n",
    "\n",
    "    # for each individual\n",
    "    for i in range(coherence.shape[0]):\n",
    "        indiv_tensors = []\n",
    "\n",
    "        # for each band\n",
    "        for band_idx in range(len(bands2)):\n",
    "            # adjacency matrix electrodes x electrodes\n",
    "            adj_matrix = np.zeros([len(electrodes),len(electrodes)])\n",
    "\n",
    "            for elec1 in range(len(electrodes)):\n",
    "                for elec2 in range(elec1+1, len(electrodes)):\n",
    "                    col_name = 'COH.'+bands2[band_idx]+'.'+electrodes[elec1]+'.'+electrodes[elec2]\n",
    "                    if col_name in coherence.columns:\n",
    "                        adj_matrix[elec1][elec2] = coherence.iloc[i,:][col_name] #individual's row, then get value\n",
    "                    else: \n",
    "                        col_name = 'COH.'+bands2[band_idx]+'.'+electrodes[elec2]+'.'+electrodes[elec1]\n",
    "                        adj_matrix[elec1][elec2] = coherence.iloc[i,:][col_name] #individual's row, then get value\n",
    "            indiv_tensors.append(torch.from_numpy(adj_matrix).fill_diagonal_(1.0))\n",
    "\n",
    "        adj_tensors.append(torch.stack(indiv_tensors))\n",
    "    \n",
    "    adj_matrices = torch.stack(adj_tensors)\n",
    "    # print(adj_matrices.shape)\n",
    "    adj_matrices = (adj_matrices + adj_matrices.transpose(2, 3)) / 2  # Ensure symmetry\n",
    "    print(adj_matrices.shape)\n",
    "    return adj_matrices"
   ]
  },
  {
   "cell_type": "code",
   "execution_count": 389,
   "metadata": {},
   "outputs": [],
   "source": [
    "def getPSDStacked(psd):\n",
    "    psd_tensors = []\n",
    "    # for each individual\n",
    "    for i in range(psd.shape[0]):\n",
    "        psd_mat = np.zeros([len(electrodes),len(bands2)])\n",
    "\n",
    "        # for each band\n",
    "        for band_idx in range(len(bands2)):\n",
    "            for elec1 in range(len(electrodes)):\n",
    "                col_name = 'AB.'+bands2[band_idx]+'.'+electrodes[elec1]\n",
    "                psd_mat[elec1][band_idx] = psd.iloc[i,:][col_name] #individual's row, then get value\n",
    "            \n",
    "        psd_tensors.append(torch.from_numpy(psd_mat))\n",
    "\n",
    "    node_features = torch.stack(psd_tensors)\n",
    "    print(node_features.shape)\n",
    "    return node_features"
   ]
  },
  {
   "cell_type": "code",
   "execution_count": 390,
   "metadata": {},
   "outputs": [
    {
     "name": "stdout",
     "output_type": "stream",
     "text": [
      "torch.Size([672, 6, 19, 19])\n",
      "torch.Size([168, 6, 19, 19])\n"
     ]
    }
   ],
   "source": [
    "adj_matrices = getCoherenceStacked(X_train)\n",
    "adj_matrices_val = getCoherenceStacked(X_val)"
   ]
  },
  {
   "cell_type": "code",
   "execution_count": 391,
   "metadata": {},
   "outputs": [
    {
     "name": "stdout",
     "output_type": "stream",
     "text": [
      "torch.Size([672, 19, 6])\n",
      "torch.Size([168, 19, 6])\n"
     ]
    }
   ],
   "source": [
    "node_features = getPSDStacked(X_train).transpose(1,2)\n",
    "node_features_val = getPSDStacked(X_val).transpose(1,2)"
   ]
  },
  {
   "cell_type": "code",
   "execution_count": 392,
   "metadata": {},
   "outputs": [
    {
     "name": "stdout",
     "output_type": "stream",
     "text": [
      "torch.Size([672, 6, 19, 19])\n"
     ]
    },
    {
     "name": "stderr",
     "output_type": "stream",
     "text": [
      "/var/folders/pz/bsrlw1051zq7wv21r5cq1y280000gn/T/ipykernel_88615/2244982466.py:4: UserWarning: To copy construct from a tensor, it is recommended to use sourceTensor.clone().detach() or sourceTensor.clone().detach().requires_grad_(True), rather than torch.tensor(sourceTensor).\n",
      "  self.adj_matrices = torch.tensor(adj_matrices, dtype=torch.float32)\n",
      "/var/folders/pz/bsrlw1051zq7wv21r5cq1y280000gn/T/ipykernel_88615/2244982466.py:5: UserWarning: To copy construct from a tensor, it is recommended to use sourceTensor.clone().detach() or sourceTensor.clone().detach().requires_grad_(True), rather than torch.tensor(sourceTensor).\n",
      "  self.node_features = torch.tensor(node_features, dtype=torch.float32)\n"
     ]
    }
   ],
   "source": [
    "# create data loaders from adj_matrices and node_features\n",
    "class EEGDataset(Dataset):\n",
    "    def __init__(self, adj_matrices, node_features, labels):\n",
    "        self.adj_matrices = torch.tensor(adj_matrices, dtype=torch.float32)\n",
    "        self.node_features = torch.tensor(node_features, dtype=torch.float32)\n",
    "        self.labels = torch.tensor(labels.to_list(), dtype=torch.long)\n",
    "        if len(self.adj_matrices) != len(self.labels):\n",
    "            raise ValueError(\"Adjacency matrices and labels must have the same length: {} != {}\".format(len(self.adj_matrices), len(self.labels)))\n",
    "        if len(self.node_features) != len(self.labels):\n",
    "            raise ValueError(\"Node features and labels must have the same length: {} != {}\".format(len(self.node_features), len(self.labels)))\n",
    "\n",
    "    def __len__(self):\n",
    "        return len(self.labels)\n",
    "\n",
    "    def __getitem__(self, idx):\n",
    "        return (self.node_features[idx], self.adj_matrices[idx]), self.labels[idx]\n",
    "    \n",
    "print(adj_matrices.shape)\n",
    "train_dataset = EEGDataset(adj_matrices, node_features, y_train)\n",
    "val_dataset = EEGDataset(adj_matrices_val, node_features_val, y_val)\n",
    "\n",
    "train_loader = DataLoader(train_dataset, batch_size=32, shuffle=True)\n",
    "val_loader = DataLoader(val_dataset, batch_size=32, shuffle=False)"
   ]
  },
  {
   "cell_type": "markdown",
   "metadata": {},
   "source": [
    "## modeling"
   ]
  },
  {
   "cell_type": "code",
   "execution_count": 393,
   "metadata": {},
   "outputs": [],
   "source": [
    "class EEGClassifier(nn.Module):\n",
    "    def __init__(self, dropout=0.10):\n",
    "        super(EEGClassifier, self).__init__()\n",
    "        \n",
    "        # Define convolutional 2d layers\n",
    "        \n",
    "        # 1, 19, 19\n",
    "        self.conv1 = nn.ModuleList([\n",
    "            nn.Conv2d(in_channels=1, out_channels=8, kernel_size=(4, 4))\n",
    "            for _ in range(6)\n",
    "        ])\n",
    "        # 8, 16, 16\n",
    "        self.maxpools1 = nn.ModuleList([nn.MaxPool2d(kernel_size=(2, 2)) for _ in range(6)])\n",
    "        # 8, 8, 8\n",
    "        \n",
    "        self.conv2 = nn.ModuleList([\n",
    "            nn.Conv2d(in_channels=8, out_channels=16, kernel_size=(3, 3))\n",
    "            for _ in range(6)\n",
    "        ])\n",
    "        # 16, 6, 6\n",
    "        self.maxpools2 = nn.ModuleList([nn.MaxPool2d(kernel_size=(2, 2)) for _ in range(6)])\n",
    "        self.batchnorms = nn.ModuleList([nn.BatchNorm2d(16) for _ in range(6)])\n",
    "        # 16, 3, 3\n",
    "        self.flatten = nn.Flatten()\n",
    "        # 144\n",
    "        self.coh_linears = nn.ModuleList([\n",
    "            nn.Linear(144, 64)\n",
    "            for _ in range(6)\n",
    "        ])\n",
    "        self.psd_linears = nn.ModuleList([\n",
    "            nn.Linear(19, 32)\n",
    "            for _ in range(6)\n",
    "        ])\n",
    "        self.band_linears = nn.ModuleList([\n",
    "            nn.Linear(96, 64)\n",
    "            for _ in range(6)\n",
    "        ])\n",
    "\n",
    "        self.bn1 = nn.BatchNorm1d(64 * 6)\n",
    "        \n",
    "        # Define linear layers\n",
    "        self.layer1 = nn.Linear(64 * 6, 128)\n",
    "        \n",
    "        self.bn2 = nn.BatchNorm1d(128)\n",
    "        \n",
    "        self.layer2 = nn.Linear(128, 32)\n",
    "        \n",
    "        self.bn3 = nn.BatchNorm1d(32)\n",
    "        \n",
    "        self.layer3 = nn.Linear(32, 7)\n",
    "\n",
    "        self.gelu = nn.GELU()\n",
    "\n",
    "        self.dropout = nn.Dropout(p=dropout)\n",
    "\n",
    "    def forward(self, x_psd, x_adj):\n",
    "        # x_psd is the PSD data, 6 x 19 tensor\n",
    "        # x_adj is the adjacency matrix data, 6 x 19 x 19 tensor\n",
    "        \n",
    "        # Process psds\n",
    "        x_psds = [None for _ in range(6)]\n",
    "        for i in range(6):\n",
    "            x_psds[i] = self.psd_linears[i](x_psd[:,i])\n",
    "            x_psds[i] = self.gelu(x_psds[i])\n",
    "            x_psds[i] = self.dropout(x_psds[i])\n",
    "        \n",
    "        # Process adjacency matrices\n",
    "        x_adjs = [None for _ in range(6)]\n",
    "        for i in range(6):\n",
    "            x_adjs[i] = self.conv1[i](x_adj[:,i].unsqueeze(1))\n",
    "            x_adjs[i] = self.maxpools1[i](x_adjs[i])\n",
    "            x_adjs[i] = self.conv2[i](x_adjs[i])\n",
    "            x_adjs[i] = self.maxpools2[i](x_adjs[i])\n",
    "            x_adjs[i] = self.gelu(x_adjs[i])\n",
    "            x_adjs[i] = self.batchnorms[i](x_adjs[i])\n",
    "            x_adjs[i] = self.flatten(x_adjs[i])\n",
    "            x_adjs[i] = self.coh_linears[i](x_adjs[i])\n",
    "            x_adjs[i] = self.gelu(x_adjs[i])\n",
    "            x_adjs[i] = self.dropout(x_adjs[i])\n",
    "            \n",
    "        x_bands = [None for _ in range(6)]\n",
    "        for i in range(6):\n",
    "            x_bands[i] = torch.cat([x_psds[i], x_adjs[i]], axis=1)\n",
    "            x_bands[i] = self.band_linears[i](x_bands[i])\n",
    "            x_bands[i] = self.gelu(x_bands[i])\n",
    "            \n",
    "        # Concatenate the two\n",
    "        x = torch.cat(x_bands, axis=1)\n",
    "        \n",
    "        x = self.bn1(x)\n",
    "        \n",
    "        # Apply more linear layers\n",
    "        x = self.layer1(x)\n",
    "        x = self.gelu(x)\n",
    "        x = self.dropout(x)\n",
    "        \n",
    "        x = self.layer2(x)\n",
    "        x = self.gelu(x)\n",
    "        x = self.dropout(x)\n",
    "        \n",
    "        x = self.layer3(x)\n",
    "        \n",
    "        return x"
   ]
  },
  {
   "cell_type": "code",
   "execution_count": 394,
   "metadata": {},
   "outputs": [
    {
     "name": "stdout",
     "output_type": "stream",
     "text": [
      "EEGClassifier(\n",
      "  (conv1): ModuleList(\n",
      "    (0-5): 6 x Conv2d(1, 8, kernel_size=(4, 4), stride=(1, 1))\n",
      "  )\n",
      "  (maxpools1): ModuleList(\n",
      "    (0-5): 6 x MaxPool2d(kernel_size=(2, 2), stride=(2, 2), padding=0, dilation=1, ceil_mode=False)\n",
      "  )\n",
      "  (conv2): ModuleList(\n",
      "    (0-5): 6 x Conv2d(8, 16, kernel_size=(3, 3), stride=(1, 1))\n",
      "  )\n",
      "  (maxpools2): ModuleList(\n",
      "    (0-5): 6 x MaxPool2d(kernel_size=(2, 2), stride=(2, 2), padding=0, dilation=1, ceil_mode=False)\n",
      "  )\n",
      "  (batchnorms): ModuleList(\n",
      "    (0-5): 6 x BatchNorm2d(16, eps=1e-05, momentum=0.1, affine=True, track_running_stats=True)\n",
      "  )\n",
      "  (flatten): Flatten(start_dim=1, end_dim=-1)\n",
      "  (coh_linears): ModuleList(\n",
      "    (0-5): 6 x Linear(in_features=144, out_features=64, bias=True)\n",
      "  )\n",
      "  (psd_linears): ModuleList(\n",
      "    (0-5): 6 x Linear(in_features=19, out_features=32, bias=True)\n",
      "  )\n",
      "  (band_linears): ModuleList(\n",
      "    (0-5): 6 x Linear(in_features=96, out_features=64, bias=True)\n",
      "  )\n",
      "  (bn1): BatchNorm1d(384, eps=1e-05, momentum=0.1, affine=True, track_running_stats=True)\n",
      "  (layer1): Linear(in_features=384, out_features=128, bias=True)\n",
      "  (bn2): BatchNorm1d(128, eps=1e-05, momentum=0.1, affine=True, track_running_stats=True)\n",
      "  (layer2): Linear(in_features=128, out_features=32, bias=True)\n",
      "  (bn3): BatchNorm1d(32, eps=1e-05, momentum=0.1, affine=True, track_running_stats=True)\n",
      "  (layer3): Linear(in_features=32, out_features=7, bias=True)\n",
      "  (gelu): GELU(approximate='none')\n",
      "  (dropout): Dropout(p=0.1, inplace=False)\n",
      ")\n",
      "159511\n"
     ]
    }
   ],
   "source": [
    "# Initialize the model\n",
    "model = EEGClassifier()\n",
    "# Print the model\n",
    "print(model)\n",
    "# how many parameters?\n",
    "pytorch_total_params = sum(p.numel() for p in model.parameters())\n",
    "print(pytorch_total_params)"
   ]
  },
  {
   "cell_type": "code",
   "execution_count": 395,
   "metadata": {},
   "outputs": [
    {
     "name": "stdout",
     "output_type": "stream",
     "text": [
      "tensor([[ 0.0868, -0.1920, -0.1168, -0.0135, -0.0300, -0.0534, -0.1113],\n",
      "        [-0.0731, -0.0641, -0.0587, -0.0217, -0.0554, -0.0916,  0.1258]],\n",
      "       grad_fn=<AddmmBackward0>)\n"
     ]
    }
   ],
   "source": [
    "# Pass through random data\n",
    "x_psd = torch.randn(2, 6, 19)\n",
    "x_adj = torch.randn(2, 6, 19, 19)\n",
    "output = model(x_psd, x_adj)\n",
    "print(output)"
   ]
  },
  {
   "cell_type": "code",
   "execution_count": 396,
   "metadata": {},
   "outputs": [
    {
     "name": "stderr",
     "output_type": "stream",
     "text": [
      "/Users/hamsterlord/.pyenv/versions/3.10.4/Library/Frameworks/Python.framework/Versions/3.10/lib/python3.10/site-packages/torch/optim/lr_scheduler.py:28: UserWarning: The verbose parameter is deprecated. Please use get_last_lr() to access the learning rate.\n",
      "  warnings.warn(\"The verbose parameter is deprecated. Please use get_last_lr() \"\n"
     ]
    }
   ],
   "source": [
    "criterion = nn.CrossEntropyLoss()\n",
    "\n",
    "optimizer = optim.Adam(model.parameters(), \n",
    "                       lr=0.00001,\n",
    "                       weight_decay=1e-5)\n",
    "\n",
    "scheduler = ReduceLROnPlateau(optimizer, \n",
    "                              mode='min', \n",
    "                              factor = 0.1, \n",
    "                              patience = 3, \n",
    "                              min_lr = 1e-5, \n",
    "                              verbose = True)"
   ]
  },
  {
   "cell_type": "code",
   "execution_count": 397,
   "metadata": {},
   "outputs": [
    {
     "name": "stdout",
     "output_type": "stream",
     "text": [
      "672\n",
      "torch.Size([32, 6, 19])\n",
      "torch.Size([32, 6, 19, 19])\n",
      "torch.Size([32])\n"
     ]
    }
   ],
   "source": [
    "print(len(train_dataset))\n",
    "for data in train_loader:\n",
    "    (adj_matrices, node_features), labels = data\n",
    "    print(adj_matrices.shape)\n",
    "    print(node_features.shape)\n",
    "    print(labels.shape)\n",
    "    break"
   ]
  },
  {
   "cell_type": "code",
   "execution_count": 406,
   "metadata": {},
   "outputs": [
    {
     "name": "stdout",
     "output_type": "stream",
     "text": [
      "Epoch [1/500], Loss: 0.1760, Acc: 0.9613\n",
      "Validation Loss: 3.7760, Validation Accuracy: 0.2396\n",
      "\n",
      "Epoch [6/500], Loss: 0.1600, Acc: 0.9762\n",
      "Validation Loss: 3.8348, Validation Accuracy: 0.2448\n",
      "\n",
      "Epoch [11/500], Loss: 0.1473, Acc: 0.9717\n",
      "Validation Loss: 3.8667, Validation Accuracy: 0.2552\n",
      "\n",
      "Epoch [16/500], Loss: 0.1392, Acc: 0.9762\n",
      "Validation Loss: 3.8592, Validation Accuracy: 0.2396\n",
      "\n",
      "Epoch [21/500], Loss: 0.1448, Acc: 0.9732\n",
      "Validation Loss: 3.9024, Validation Accuracy: 0.2292\n",
      "\n",
      "Epoch [26/500], Loss: 0.1330, Acc: 0.9866\n",
      "Validation Loss: 3.8972, Validation Accuracy: 0.2240\n",
      "\n",
      "Epoch [31/500], Loss: 0.1461, Acc: 0.9702\n",
      "Validation Loss: 3.9012, Validation Accuracy: 0.2344\n",
      "\n",
      "Epoch [36/500], Loss: 0.1450, Acc: 0.9702\n",
      "Validation Loss: 3.8942, Validation Accuracy: 0.2500\n",
      "\n"
     ]
    },
    {
     "ename": "KeyboardInterrupt",
     "evalue": "",
     "output_type": "error",
     "traceback": [
      "\u001b[0;31m---------------------------------------------------------------------------\u001b[0m",
      "\u001b[0;31mKeyboardInterrupt\u001b[0m                         Traceback (most recent call last)",
      "Cell \u001b[0;32mIn[406], line 31\u001b[0m\n\u001b[1;32m     28\u001b[0m labels \u001b[38;5;241m=\u001b[39m labels\u001b[38;5;241m.\u001b[39mlong()\n\u001b[1;32m     30\u001b[0m loss \u001b[38;5;241m=\u001b[39m criterion(outputs, labels)\n\u001b[0;32m---> 31\u001b[0m \u001b[43mloss\u001b[49m\u001b[38;5;241;43m.\u001b[39;49m\u001b[43mbackward\u001b[49m\u001b[43m(\u001b[49m\u001b[43m)\u001b[49m\n\u001b[1;32m     33\u001b[0m outputs \u001b[38;5;241m=\u001b[39m F\u001b[38;5;241m.\u001b[39msoftmax(outputs, dim\u001b[38;5;241m=\u001b[39m\u001b[38;5;241m1\u001b[39m)\n\u001b[1;32m     34\u001b[0m top_p, top_class \u001b[38;5;241m=\u001b[39m outputs\u001b[38;5;241m.\u001b[39mtopk(k\u001b[38;5;241m=\u001b[39m\u001b[38;5;241m1\u001b[39m, dim\u001b[38;5;241m=\u001b[39m\u001b[38;5;241m1\u001b[39m)\n",
      "File \u001b[0;32m~/.pyenv/versions/3.10.4/Library/Frameworks/Python.framework/Versions/3.10/lib/python3.10/site-packages/torch/_tensor.py:522\u001b[0m, in \u001b[0;36mTensor.backward\u001b[0;34m(self, gradient, retain_graph, create_graph, inputs)\u001b[0m\n\u001b[1;32m    512\u001b[0m \u001b[38;5;28;01mif\u001b[39;00m has_torch_function_unary(\u001b[38;5;28mself\u001b[39m):\n\u001b[1;32m    513\u001b[0m     \u001b[38;5;28;01mreturn\u001b[39;00m handle_torch_function(\n\u001b[1;32m    514\u001b[0m         Tensor\u001b[38;5;241m.\u001b[39mbackward,\n\u001b[1;32m    515\u001b[0m         (\u001b[38;5;28mself\u001b[39m,),\n\u001b[0;32m   (...)\u001b[0m\n\u001b[1;32m    520\u001b[0m         inputs\u001b[38;5;241m=\u001b[39minputs,\n\u001b[1;32m    521\u001b[0m     )\n\u001b[0;32m--> 522\u001b[0m \u001b[43mtorch\u001b[49m\u001b[38;5;241;43m.\u001b[39;49m\u001b[43mautograd\u001b[49m\u001b[38;5;241;43m.\u001b[39;49m\u001b[43mbackward\u001b[49m\u001b[43m(\u001b[49m\n\u001b[1;32m    523\u001b[0m \u001b[43m    \u001b[49m\u001b[38;5;28;43mself\u001b[39;49m\u001b[43m,\u001b[49m\u001b[43m \u001b[49m\u001b[43mgradient\u001b[49m\u001b[43m,\u001b[49m\u001b[43m \u001b[49m\u001b[43mretain_graph\u001b[49m\u001b[43m,\u001b[49m\u001b[43m \u001b[49m\u001b[43mcreate_graph\u001b[49m\u001b[43m,\u001b[49m\u001b[43m \u001b[49m\u001b[43minputs\u001b[49m\u001b[38;5;241;43m=\u001b[39;49m\u001b[43minputs\u001b[49m\n\u001b[1;32m    524\u001b[0m \u001b[43m\u001b[49m\u001b[43m)\u001b[49m\n",
      "File \u001b[0;32m~/.pyenv/versions/3.10.4/Library/Frameworks/Python.framework/Versions/3.10/lib/python3.10/site-packages/torch/autograd/__init__.py:266\u001b[0m, in \u001b[0;36mbackward\u001b[0;34m(tensors, grad_tensors, retain_graph, create_graph, grad_variables, inputs)\u001b[0m\n\u001b[1;32m    261\u001b[0m     retain_graph \u001b[38;5;241m=\u001b[39m create_graph\n\u001b[1;32m    263\u001b[0m \u001b[38;5;66;03m# The reason we repeat the same comment below is that\u001b[39;00m\n\u001b[1;32m    264\u001b[0m \u001b[38;5;66;03m# some Python versions print out the first line of a multi-line function\u001b[39;00m\n\u001b[1;32m    265\u001b[0m \u001b[38;5;66;03m# calls in the traceback and some print out the last line\u001b[39;00m\n\u001b[0;32m--> 266\u001b[0m \u001b[43mVariable\u001b[49m\u001b[38;5;241;43m.\u001b[39;49m\u001b[43m_execution_engine\u001b[49m\u001b[38;5;241;43m.\u001b[39;49m\u001b[43mrun_backward\u001b[49m\u001b[43m(\u001b[49m\u001b[43m  \u001b[49m\u001b[38;5;66;43;03m# Calls into the C++ engine to run the backward pass\u001b[39;49;00m\n\u001b[1;32m    267\u001b[0m \u001b[43m    \u001b[49m\u001b[43mtensors\u001b[49m\u001b[43m,\u001b[49m\n\u001b[1;32m    268\u001b[0m \u001b[43m    \u001b[49m\u001b[43mgrad_tensors_\u001b[49m\u001b[43m,\u001b[49m\n\u001b[1;32m    269\u001b[0m \u001b[43m    \u001b[49m\u001b[43mretain_graph\u001b[49m\u001b[43m,\u001b[49m\n\u001b[1;32m    270\u001b[0m \u001b[43m    \u001b[49m\u001b[43mcreate_graph\u001b[49m\u001b[43m,\u001b[49m\n\u001b[1;32m    271\u001b[0m \u001b[43m    \u001b[49m\u001b[43minputs\u001b[49m\u001b[43m,\u001b[49m\n\u001b[1;32m    272\u001b[0m \u001b[43m    \u001b[49m\u001b[43mallow_unreachable\u001b[49m\u001b[38;5;241;43m=\u001b[39;49m\u001b[38;5;28;43;01mTrue\u001b[39;49;00m\u001b[43m,\u001b[49m\n\u001b[1;32m    273\u001b[0m \u001b[43m    \u001b[49m\u001b[43maccumulate_grad\u001b[49m\u001b[38;5;241;43m=\u001b[39;49m\u001b[38;5;28;43;01mTrue\u001b[39;49;00m\u001b[43m,\u001b[49m\n\u001b[1;32m    274\u001b[0m \u001b[43m\u001b[49m\u001b[43m)\u001b[49m\n",
      "\u001b[0;31mKeyboardInterrupt\u001b[0m: "
     ]
    }
   ],
   "source": [
    "best_loss = np.inf\n",
    "patience = 20\n",
    "min_delta = 0.01\n",
    "early_stop_counter = 0\n",
    "\n",
    "train_losses = []\n",
    "train_accs = []\n",
    "val_losses = []\n",
    "val_accs = []\n",
    "final_epoch = 0\n",
    "\n",
    "num_epochs = 500\n",
    "\n",
    "for epoch in range(num_epochs):\n",
    "    \n",
    "    # train\n",
    "    model.train()\n",
    "    running_loss = 0.\n",
    "    running_accuracy = 0.\n",
    "\n",
    "    for data in train_loader:\n",
    "        inputs, labels = data\n",
    "        \n",
    "        optimizer.zero_grad()  # zero gradients\n",
    "        \n",
    "        outputs = model.forward(*inputs)  # input net\n",
    "        \n",
    "        labels = labels.long()\n",
    "\n",
    "        loss = criterion(outputs, labels)\n",
    "        loss.backward()\n",
    "\n",
    "        outputs = F.softmax(outputs, dim=1)\n",
    "        top_p, top_class = outputs.topk(k=1, dim=1)\n",
    "\n",
    "        optimizer.step()\n",
    "\n",
    "        running_loss += loss.item()\n",
    "        \n",
    "        _, predicted = torch.max(outputs.data, 1)  \n",
    "        accuracy = (predicted == labels).float().sum()\n",
    "        running_accuracy += accuracy.item()\n",
    "\n",
    "    epoch_loss = running_loss / len(train_loader)\n",
    "    epoch_accuracy = running_accuracy / len(train_dataset)\n",
    "    train_accs.append(epoch_accuracy)\n",
    "    \n",
    "    if epoch % 5 == 0:\n",
    "        print(f\"Epoch [{epoch + 1}/{num_epochs}], Loss: {epoch_loss:.4f}, Acc: {epoch_accuracy:.4f}\")\n",
    "    train_losses.append(epoch_loss)\n",
    "    \n",
    "    # val\n",
    "    model.eval()\n",
    "    val_loss = 0.0\n",
    "    val_accuracy = 0.0\n",
    "    correct = total = 0\n",
    "\n",
    "    with torch.no_grad():\n",
    "        for data in val_loader:\n",
    "            inputs, labels = data\n",
    "\n",
    "            outputs = model(*inputs)\n",
    "\n",
    "            loss = criterion(outputs, labels)\n",
    "            val_loss += loss.item()\n",
    "\n",
    "            _, predicted = torch.max(outputs.data, 1)\n",
    "            \n",
    "            accuracy = (predicted == labels).float().mean()\n",
    "            val_accuracy += accuracy.item()\n",
    "\n",
    "    val_loss /= len(val_loader)\n",
    "    val_accuracy /= len(val_loader)\n",
    "\n",
    "    if epoch % 5 == 0:\n",
    "        print(f\"Validation Loss: {val_loss:.4f}, Validation Accuracy: {val_accuracy:.4f}\\n\")\n",
    "    val_losses.append(val_loss)\n",
    "    val_accs.append(val_accuracy)\n",
    "\n",
    "    \n",
    "    # Early stopping\n",
    "    if val_loss < best_loss - min_delta:\n",
    "        best_loss = val_loss\n",
    "        early_stop_counter = 0  \n",
    "        #best_model_state = model.state_dict()  \n",
    "    else:\n",
    "        early_stop_counter += 1\n",
    "    \n",
    "    # if early_stop_counter >= patience:\n",
    "    #     print(f\"Early stopping at epoch {epoch+1}.\")\n",
    "    #     final_epoch = epoch+1\n",
    "    #     #model.load_state_dict(best_model_state) \n",
    "    #     break\n",
    "        \n",
    "    scheduler.step(val_loss)"
   ]
  },
  {
   "cell_type": "code",
   "execution_count": 401,
   "metadata": {},
   "outputs": [
    {
     "data": {
      "image/png": "[encoded data removed]",
      "text/plain": [
       "<Figure size 640x480 with 1 Axes>"
      ]
     },
     "metadata": {},
     "output_type": "display_data"
    },
    {
     "data": {
      "image/png": "[encoded data removed]",
      "text/plain": [
       "<Figure size 640x480 with 1 Axes>"
      ]
     },
     "metadata": {},
     "output_type": "display_data"
    }
   ],
   "source": [
    "# plot accuracy and loss\n",
    "import matplotlib.pyplot as plt\n",
    "\n",
    "plt.plot(train_losses, label='Training loss')\n",
    "plt.plot(val_losses, label='Validation loss')\n",
    "plt.legend()\n",
    "plt.show()\n",
    "\n",
    "plt.plot(train_accs, label='Training accuracy')\n",
    "plt.plot(val_accs, label='Validation accuracy')\n",
    "plt.legend()\n",
    "plt.show()"
   ]
  },
  {
   "cell_type": "code",
   "execution_count": 402,
   "metadata": {},
   "outputs": [
    {
     "data": {
      "text/plain": [
       "0.3385416666666667"
      ]
     },
     "execution_count": 402,
     "metadata": {},
     "output_type": "execute_result"
    }
   ],
   "source": [
    "max(val_accs)"
   ]
  }
 ],
 "metadata": {
  "kernelspec": {
   "display_name": "3.10",
   "language": "python",
   "name": "python3"
  },
  "language_info": {
   "codemirror_mode": {
    "name": "ipython",
    "version": 3
   },
   "file_extension": ".py",
   "mimetype": "text/x-python",
   "name": "python",
   "nbconvert_exporter": "python",
   "pygments_lexer": "ipython3",
   "version": "3.10.4"
  }
 },
 "nbformat": 4,
 "nbformat_minor": 2
}
