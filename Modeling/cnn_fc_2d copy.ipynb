{
  "cells": [
    {
      "cell_type": "code",
      "execution_count": 569,
      "metadata": {
        "id": "0nLdmV8Cjb3Q"
      },
      "outputs": [],
      "source": [
        "import torch\n",
        "import torch.nn as nn\n",
        "import torch.nn.init as init\n",
        "import torch.optim as optim\n",
        "import torch.nn.functional as F\n",
        "# torhc dataset\n",
        "from torch.utils.data import Dataset, DataLoader\n",
        "\n",
        "# train test split\n",
        "from sklearn.model_selection import train_test_split\n",
        "\n",
        "from torch.optim.lr_scheduler import ReduceLROnPlateau\n",
        "\n",
        "import pandas as pd\n",
        "from sklearn.decomposition import PCA\n",
        "from imblearn.over_sampling import SMOTE\n",
        "\n",
        "#import summary for models\n",
        "from torchsummary import summary\n",
        "\n",
        "import numpy as np\n",
        "from sklearn.preprocessing import StandardScaler, OrdinalEncoder"
      ]
    },
    {
      "cell_type": "code",
      "execution_count": 570,
      "metadata": {
        "id": "ZHmU5aNnjb3R"
      },
      "outputs": [],
      "source": [
        "all_data = pd.read_csv(\"../Data/Train_and_Validate_EEG.csv\", index_col=0).drop(\"Unnamed: 122\",axis=1)\n",
        "data = all_data.drop(['sex','eeg.date','education','specific.disorder'], axis=1).dropna(axis=0)\n",
        "\n",
        "# Encode disorders\n",
        "encoder = OrdinalEncoder()\n",
        "data[['main.disorder']] = encoder.fit_transform(data[['main.disorder']])\n",
        "\n",
        "X = data.drop(['main.disorder'], axis=1).dropna(axis=0)\n",
        "y = data['main.disorder']\n",
        "X_train, X_val, y_train, y_val = train_test_split(X, y, test_size=0.2, random_state=42)"
      ]
    },
    {
      "cell_type": "code",
      "execution_count": 571,
      "metadata": {
        "id": "-S73qwxjjb3S"
      },
      "outputs": [],
      "source": [
        "bands = ['gamma', 'highbeta', 'beta', 'alpha', 'theta', 'delta']\n",
        "bands2 = ['F.gamma', 'E.highbeta', 'D.beta', 'C.alpha', 'B.theta', 'A.delta']\n",
        "\n",
        "# Separate column names based on whether they are PSD or coherence\n",
        "AB_per_band = {}\n",
        "AB_cols = []\n",
        "COH_per_band = {}\n",
        "COH_cols = []\n",
        "\n",
        "for band in bands:\n",
        "    AB_per_band[band] = []\n",
        "    COH_per_band[band] = []\n",
        "\n",
        "for col_name in X_train.drop(['age','IQ'], axis=1).columns:\n",
        "    col_split = col_name.split('.')\n",
        "    if col_split[0] == 'AB':\n",
        "        AB_per_band[col_split[2]].append(col_name)\n",
        "        AB_cols.append(col_name)\n",
        "    else:\n",
        "        COH_per_band[col_split[2]].append(col_name)\n",
        "        COH_cols.append(col_name)"
      ]
    },
    {
      "cell_type": "code",
      "execution_count": 572,
      "metadata": {
        "colab": {
          "base_uri": "https://localhost:8080/"
        },
        "id": "Tu4oRNRujb3S",
        "outputId": "571e8aa4-5d10-4931-c17b-36a8995013f0"
      },
      "outputs": [
        {
          "data": {
            "text/plain": [
              "19"
            ]
          },
          "execution_count": 572,
          "metadata": {},
          "output_type": "execute_result"
        }
      ],
      "source": [
        "# Get all electrode names\n",
        "electrodes = set()\n",
        "for col in COH_cols:\n",
        "    col_split = col.split('.')\n",
        "    # elec1 = col_split[4]\n",
        "    electrodes.add(col_split[3]+'.'+col_split[4])\n",
        "    # elec2 = col_split[6]\n",
        "    electrodes.add(col_split[5]+'.'+col_split[6])\n",
        "\n",
        "electrodes = list(electrodes)\n",
        "len(electrodes)"
      ]
    },
    {
      "cell_type": "markdown",
      "metadata": {
        "id": "yFzM7UHCjb3S"
      },
      "source": [
        "## data preprocessing\n",
        "coherence data shape = [num individuals, frequency bands, electrodes, electrodes]\n",
        "PSD data shape = [num individuals, frequency bands, electrodes]"
      ]
    },
    {
      "cell_type": "code",
      "execution_count": 573,
      "metadata": {
        "id": "pGWjHAtUjb3T"
      },
      "outputs": [],
      "source": [
        "num_samples = X_train.shape[0]\n",
        "num_nodes = len(electrodes)\n",
        "num_bands = len(bands)"
      ]
    },
    {
      "cell_type": "code",
      "execution_count": 574,
      "metadata": {
        "id": "C2f8c-XXjb3T"
      },
      "outputs": [],
      "source": [
        "def getCoherenceStacked(coherence):\n",
        "    adj_tensors = []\n",
        "\n",
        "    # for each individual\n",
        "    for i in range(coherence.shape[0]):\n",
        "        indiv_tensors = []\n",
        "\n",
        "        # for each band\n",
        "        for band_idx in range(len(bands2)):\n",
        "            # adjacency matrix electrodes x electrodes\n",
        "            adj_matrix = np.zeros([len(electrodes),len(electrodes)])\n",
        "\n",
        "            for elec1 in range(len(electrodes)):\n",
        "                for elec2 in range(elec1+1, len(electrodes)):\n",
        "                    col_name = 'COH.'+bands2[band_idx]+'.'+electrodes[elec1]+'.'+electrodes[elec2]\n",
        "                    if col_name in coherence.columns:\n",
        "                        adj_matrix[elec1][elec2] = coherence.iloc[i,:][col_name] #individual's row, then get value\n",
        "                    else:\n",
        "                        col_name = 'COH.'+bands2[band_idx]+'.'+electrodes[elec2]+'.'+electrodes[elec1]\n",
        "                        adj_matrix[elec1][elec2] = coherence.iloc[i,:][col_name] #individual's row, then get value\n",
        "            indiv_tensors.append(torch.from_numpy(adj_matrix).fill_diagonal_(1.0))\n",
        "\n",
        "        adj_tensors.append(torch.stack(indiv_tensors))\n",
        "\n",
        "    adj_matrices = torch.stack(adj_tensors)\n",
        "    # print(adj_matrices.shape)\n",
        "    adj_matrices = (adj_matrices + adj_matrices.transpose(2, 3)) / 2  # Ensure symmetry\n",
        "    print(adj_matrices.shape)\n",
        "    return adj_matrices"
      ]
    },
    {
      "cell_type": "code",
      "execution_count": 575,
      "metadata": {
        "id": "1JhFap70jb3T"
      },
      "outputs": [],
      "source": [
        "def getPSDStacked(psd):\n",
        "    psd_tensors = []\n",
        "    # for each individual\n",
        "    for i in range(psd.shape[0]):\n",
        "        psd_mat = np.zeros([len(electrodes),len(bands2)])\n",
        "\n",
        "        # for each band\n",
        "        for band_idx in range(len(bands2)):\n",
        "            for elec1 in range(len(electrodes)):\n",
        "                col_name = 'AB.'+bands2[band_idx]+'.'+electrodes[elec1]\n",
        "                psd_mat[elec1][band_idx] = psd.iloc[i,:][col_name] #individual's row, then get value\n",
        "\n",
        "        psd_tensors.append(torch.from_numpy(psd_mat))\n",
        "\n",
        "    node_features = torch.stack(psd_tensors)\n",
        "    print(node_features.shape)\n",
        "    return node_features"
      ]
    },
    {
      "cell_type": "code",
      "execution_count": 576,
      "metadata": {
        "colab": {
          "base_uri": "https://localhost:8080/"
        },
        "id": "VJNAHJVJjb3T",
        "outputId": "8dc2a377-7139-4ff7-aad2-fe0b1cf0da05"
      },
      "outputs": [
        {
          "name": "stdout",
          "output_type": "stream",
          "text": [
            "torch.Size([672, 19, 6])\n",
            "torch.Size([168, 19, 6])\n"
          ]
        }
      ],
      "source": [
        "node_features = getPSDStacked(X_train).transpose(1,2)\n",
        "node_features_val = getPSDStacked(X_val).transpose(1,2)"
      ]
    },
    {
      "cell_type": "code",
      "execution_count": 577,
      "metadata": {
        "id": "_ttKia4mjb3T"
      },
      "outputs": [
        {
          "name": "stdout",
          "output_type": "stream",
          "text": [
            "torch.Size([672, 6, 19, 19])\n",
            "torch.Size([168, 6, 19, 19])\n"
          ]
        }
      ],
      "source": [
        "adj_matrices = getCoherenceStacked(X_train)\n",
        "adj_matrices_val = getCoherenceStacked(X_val)\n",
        "\n",
        "# Populating diagonals\n",
        "for i in range(adj_matrices.shape[2]):\n",
        "  adj_matrices[:,:,i,i] = node_features[:,:,i]\n",
        "  adj_matrices_val[:,:,i,i] = node_features_val[:,:,i]"
      ]
    },
    {
      "cell_type": "code",
      "execution_count": 578,
      "metadata": {
        "id": "P93BsSG8jb3U"
      },
      "outputs": [
        {
          "name": "stdout",
          "output_type": "stream",
          "text": [
            "torch.Size([672, 6, 19, 19])\n"
          ]
        },
        {
          "name": "stderr",
          "output_type": "stream",
          "text": [
            "/var/folders/pz/bsrlw1051zq7wv21r5cq1y280000gn/T/ipykernel_88615/3968449242.py:4: UserWarning: To copy construct from a tensor, it is recommended to use sourceTensor.clone().detach() or sourceTensor.clone().detach().requires_grad_(True), rather than torch.tensor(sourceTensor).\n",
            "  self.adj_matrices = torch.tensor(adj_matrices, dtype=torch.float32)\n",
            "/var/folders/pz/bsrlw1051zq7wv21r5cq1y280000gn/T/ipykernel_88615/3968449242.py:5: UserWarning: To copy construct from a tensor, it is recommended to use sourceTensor.clone().detach() or sourceTensor.clone().detach().requires_grad_(True), rather than torch.tensor(sourceTensor).\n",
            "  self.node_features = torch.tensor(node_features, dtype=torch.float32)\n"
          ]
        }
      ],
      "source": [
        "# create data loaders from adj_matrices and node_features\n",
        "class EEGDataset(Dataset):\n",
        "    def __init__(self, adj_matrices, node_features, labels):\n",
        "        self.adj_matrices = torch.tensor(adj_matrices, dtype=torch.float32)\n",
        "        self.node_features = torch.tensor(node_features, dtype=torch.float32)\n",
        "        self.labels = torch.tensor(labels.to_list(), dtype=torch.long)\n",
        "        if len(self.adj_matrices) != len(self.labels):\n",
        "            raise ValueError(\"Adjacency matrices and labels must have the same length: {} != {}\".format(len(self.adj_matrices), len(self.labels)))\n",
        "        if len(self.node_features) != len(self.labels):\n",
        "            raise ValueError(\"Node features and labels must have the same length: {} != {}\".format(len(self.node_features), len(self.labels)))\n",
        "\n",
        "    def __len__(self):\n",
        "        return len(self.labels)\n",
        "\n",
        "    def __getitem__(self, idx):\n",
        "        return (self.node_features[idx], self.adj_matrices[idx]), self.labels[idx]\n",
        "\n",
        "print(adj_matrices.shape)\n",
        "train_dataset = EEGDataset(adj_matrices, node_features, y_train)\n",
        "val_dataset = EEGDataset(adj_matrices_val, node_features_val, y_val)\n",
        "\n",
        "train_loader = DataLoader(train_dataset, batch_size=32, shuffle=True)\n",
        "val_loader = DataLoader(val_dataset, batch_size=32, shuffle=False)"
      ]
    },
    {
      "cell_type": "markdown",
      "metadata": {
        "id": "Eh-Osf7vjb3U"
      },
      "source": [
        "## modeling"
      ]
    },
    {
      "cell_type": "code",
      "execution_count": 579,
      "metadata": {
        "id": "N_20-gVdjb3U"
      },
      "outputs": [],
      "source": [
        "class EEGClassifier(nn.Module):\n",
        "    def __init__(self, dropout=0.15):\n",
        "        super(EEGClassifier, self).__init__()\n",
        "\n",
        "        # Define convolutional 2d layers\n",
        "\n",
        "        # 1, 19, 19\n",
        "        self.conv1 = nn.ModuleList([\n",
        "            nn.Conv2d(in_channels=1, out_channels=16, kernel_size=(4, 4))\n",
        "            for _ in range(6)\n",
        "        ])\n",
        "        # 8, 16, 16\n",
        "        self.maxpools1 = nn.ModuleList([nn.MaxPool2d(kernel_size=(2, 2)) for _ in range(6)])\n",
        "        # 8, 8, 8\n",
        "\n",
        "        self.conv2 = nn.ModuleList([\n",
        "            nn.Conv2d(in_channels=16, out_channels=32, kernel_size=(3, 3))\n",
        "            for _ in range(6)\n",
        "        ])\n",
        "        # 16, 6, 6\n",
        "        self.maxpools2 = nn.ModuleList([nn.MaxPool2d(kernel_size=(2, 2)) for _ in range(6)])\n",
        "        self.batchnorms = nn.ModuleList([nn.BatchNorm2d(32) for _ in range(6)])\n",
        "        # 16, 3, 3\n",
        "        self.flatten = nn.Flatten()\n",
        "        # 144\n",
        "        self.coh_linears1 = nn.ModuleList([\n",
        "            nn.Linear(288, 128)\n",
        "            for _ in range(6)\n",
        "        ])\n",
        "        self.coh_linears2 = nn.ModuleList([\n",
        "            nn.Linear(128, 64)\n",
        "            for _ in range(6)\n",
        "        ])\n",
        "        self.psd_convs1 = nn.ModuleList([\n",
        "            # 19 x 1 -> 17 x 8\n",
        "            nn.Conv1d(in_channels=1, out_channels=8, kernel_size=3) for _ in range(6)\n",
        "        ])\n",
        "        self.psd_convs2 = nn.ModuleList([\n",
        "            # 17 x 8 -> 6 x 32\n",
        "            nn.Conv1d(in_channels=8, out_channels=32, kernel_size=5, stride=2) for _ in range(6)\n",
        "        ])\n",
        "        # self.psd_convs3 = nn.ModuleList([\n",
        "        #     # 6 x 32 -> 5 x 64\n",
        "        #     nn.Conv1d(in_channels=32, out_channels=64, kernel_size=3) for _ in range(6)\n",
        "        # ])\n",
        "        self.psd_linears = nn.ModuleList([\n",
        "            nn.Linear(7 * 32, 64)\n",
        "            for _ in range(6)\n",
        "        ])\n",
        "        self.band_linears = nn.ModuleList([\n",
        "            nn.Linear(128, 64)\n",
        "            for _ in range(6)\n",
        "        ])\n",
        "\n",
        "        self.bn1 = nn.BatchNorm1d(64 * 6)\n",
        "\n",
        "        # Define linear layers\n",
        "        self.layer1 = nn.Linear(64 * 6, 128)\n",
        "\n",
        "        self.bn2 = nn.BatchNorm1d(128)\n",
        "\n",
        "        self.layer2 = nn.Linear(128, 32)\n",
        "\n",
        "        self.bn3 = nn.BatchNorm1d(32)\n",
        "\n",
        "        self.layer3 = nn.Linear(32, 7)\n",
        "\n",
        "        self.gelu = nn.GELU()\n",
        "\n",
        "        self.dropout = nn.Dropout(p=dropout)\n",
        "\n",
        "    def forward(self, x_psd, x_adj):\n",
        "        # x_psd is the PSD data, 6 x 19 tensor\n",
        "        # x_adj is the adjacency matrix data, 6 x 19 x 19 tensor\n",
        "\n",
        "        # Process psds\n",
        "        x_psds = [None for _ in range(6)]\n",
        "        for i in range(6):\n",
        "            x_psds[i] = self.psd_convs1[i](x_psd[:,i].unsqueeze(1))\n",
        "            x_psds[i] = self.gelu(x_psds[i])\n",
        "            x_psds[i] = self.psd_convs2[i](x_psds[i])\n",
        "            x_psds[i] = self.gelu(x_psds[i])\n",
        "            x_psds[i] = self.dropout(x_psds[i])\n",
        "            # x_psds[i] = self.psd_convs3[i](x_psds[i])\n",
        "            # x_psds[i] = self.gelu(x_psds[i])\n",
        "            x_psds[i] = self.flatten(x_psds[i])\n",
        "            x_psds[i] = self.psd_linears[i](x_psds[i])\n",
        "            x_psds[i] = self.gelu(x_psds[i])\n",
        "            x_psds[i] = self.dropout(x_psds[i])\n",
        "\n",
        "        # Process adjacency matrices\n",
        "        x_adjs = [None for _ in range(6)]\n",
        "        for i in range(6):\n",
        "            x_adjs[i] = self.conv1[i](x_adj[:,i].unsqueeze(1))\n",
        "            x_adjs[i] = self.maxpools1[i](x_adjs[i])\n",
        "            x_adjs[i] = self.conv2[i](x_adjs[i])\n",
        "            x_adjs[i] = self.maxpools2[i](x_adjs[i])\n",
        "            x_adjs[i] = self.gelu(x_adjs[i])\n",
        "            x_adjs[i] = self.batchnorms[i](x_adjs[i])\n",
        "            x_adjs[i] = self.flatten(x_adjs[i])\n",
        "            x_adjs[i] = self.coh_linears1[i](x_adjs[i])\n",
        "            x_adjs[i] = self.gelu(x_adjs[i])\n",
        "            x_adjs[i] = self.coh_linears2[i](x_adjs[i])\n",
        "            x_adjs[i] = self.gelu(x_adjs[i])\n",
        "            x_adjs[i] = self.dropout(x_adjs[i])\n",
        "\n",
        "        x_bands = [None for _ in range(6)]\n",
        "        for i in range(6):\n",
        "            x_bands[i] = torch.cat([x_psds[i], x_adjs[i]], axis=1)\n",
        "            x_bands[i] = self.band_linears[i](x_bands[i])\n",
        "            x_bands[i] = self.gelu(x_bands[i])\n",
        "\n",
        "        # Concatenate the two\n",
        "        x = torch.cat(x_bands, axis=1)\n",
        "\n",
        "        x = self.bn1(x)\n",
        "\n",
        "        # Apply more linear layers\n",
        "        x = self.layer1(x)\n",
        "        x = self.gelu(x)\n",
        "        x = self.dropout(x)\n",
        "\n",
        "        x = self.layer2(x)\n",
        "        x = self.gelu(x)\n",
        "        x = self.dropout(x)\n",
        "\n",
        "        x = self.layer3(x)\n",
        "\n",
        "        return x"
      ]
    },
    {
      "cell_type": "code",
      "execution_count": 580,
      "metadata": {
        "id": "XuX0tgKhjb3U"
      },
      "outputs": [
        {
          "name": "stdout",
          "output_type": "stream",
          "text": [
            "EEGClassifier(\n",
            "  (conv1): ModuleList(\n",
            "    (0-5): 6 x Conv2d(1, 16, kernel_size=(4, 4), stride=(1, 1))\n",
            "  )\n",
            "  (maxpools1): ModuleList(\n",
            "    (0-5): 6 x MaxPool2d(kernel_size=(2, 2), stride=(2, 2), padding=0, dilation=1, ceil_mode=False)\n",
            "  )\n",
            "  (conv2): ModuleList(\n",
            "    (0-5): 6 x Conv2d(16, 32, kernel_size=(3, 3), stride=(1, 1))\n",
            "  )\n",
            "  (maxpools2): ModuleList(\n",
            "    (0-5): 6 x MaxPool2d(kernel_size=(2, 2), stride=(2, 2), padding=0, dilation=1, ceil_mode=False)\n",
            "  )\n",
            "  (batchnorms): ModuleList(\n",
            "    (0-5): 6 x BatchNorm2d(32, eps=1e-05, momentum=0.1, affine=True, track_running_stats=True)\n",
            "  )\n",
            "  (flatten): Flatten(start_dim=1, end_dim=-1)\n",
            "  (coh_linears1): ModuleList(\n",
            "    (0-5): 6 x Linear(in_features=288, out_features=128, bias=True)\n",
            "  )\n",
            "  (coh_linears2): ModuleList(\n",
            "    (0-5): 6 x Linear(in_features=128, out_features=64, bias=True)\n",
            "  )\n",
            "  (psd_convs1): ModuleList(\n",
            "    (0-5): 6 x Conv1d(1, 8, kernel_size=(3,), stride=(1,))\n",
            "  )\n",
            "  (psd_convs2): ModuleList(\n",
            "    (0-5): 6 x Conv1d(8, 32, kernel_size=(5,), stride=(2,))\n",
            "  )\n",
            "  (psd_linears): ModuleList(\n",
            "    (0-5): 6 x Linear(in_features=224, out_features=64, bias=True)\n",
            "  )\n",
            "  (band_linears): ModuleList(\n",
            "    (0-5): 6 x Linear(in_features=128, out_features=64, bias=True)\n",
            "  )\n",
            "  (bn1): BatchNorm1d(384, eps=1e-05, momentum=0.1, affine=True, track_running_stats=True)\n",
            "  (layer1): Linear(in_features=384, out_features=128, bias=True)\n",
            "  (bn2): BatchNorm1d(128, eps=1e-05, momentum=0.1, affine=True, track_running_stats=True)\n",
            "  (layer2): Linear(in_features=128, out_features=32, bias=True)\n",
            "  (bn3): BatchNorm1d(32, eps=1e-05, momentum=0.1, affine=True, track_running_stats=True)\n",
            "  (layer3): Linear(in_features=32, out_features=7, bias=True)\n",
            "  (gelu): GELU(approximate='none')\n",
            "  (dropout): Dropout(p=0.4, inplace=False)\n",
            ")\n",
            "500071\n"
          ]
        }
      ],
      "source": [
        "# Initialize the model\n",
        "model = EEGClassifier()\n",
        "# Print the model\n",
        "print(model)\n",
        "# how many parameters?\n",
        "pytorch_total_params = sum(p.numel() for p in model.parameters())\n",
        "print(pytorch_total_params)"
      ]
    },
    {
      "cell_type": "code",
      "execution_count": 581,
      "metadata": {
        "id": "S7ONccD5jb3U"
      },
      "outputs": [
        {
          "name": "stdout",
          "output_type": "stream",
          "text": [
            "tensor([[ 0.2825,  0.0351,  0.1903,  0.0066, -0.0981, -0.0235, -0.0127],\n",
            "        [ 0.0457,  0.2287,  0.0686,  0.1711, -0.1669,  0.1261,  0.0733],\n",
            "        [ 0.1512, -0.1208,  0.2135,  0.0678, -0.1926,  0.0658,  0.1847],\n",
            "        [ 0.1696, -0.0861,  0.1676,  0.1495, -0.3718, -0.1137,  0.0756]],\n",
            "       grad_fn=<AddmmBackward0>)\n"
          ]
        }
      ],
      "source": [
        "# Pass through random data\n",
        "x_psd = torch.randn(4, 6, 19)\n",
        "x_adj = torch.randn(4, 6, 19, 19)\n",
        "output = model(x_psd, x_adj)\n",
        "print(output)"
      ]
    },
    {
      "cell_type": "code",
      "execution_count": 582,
      "metadata": {
        "id": "C7j55WZujb3V"
      },
      "outputs": [
        {
          "name": "stderr",
          "output_type": "stream",
          "text": [
            "/Users/hamsterlord/.pyenv/versions/3.10.4/Library/Frameworks/Python.framework/Versions/3.10/lib/python3.10/site-packages/torch/optim/lr_scheduler.py:28: UserWarning: The verbose parameter is deprecated. Please use get_last_lr() to access the learning rate.\n",
            "  warnings.warn(\"The verbose parameter is deprecated. Please use get_last_lr() \"\n"
          ]
        }
      ],
      "source": [
        "criterion = nn.CrossEntropyLoss()\n",
        "\n",
        "optimizer = optim.Adam(model.parameters(),\n",
        "                       lr=0.00003,\n",
        "                       weight_decay=1e-5)\n",
        "\n",
        "scheduler = ReduceLROnPlateau(optimizer,\n",
        "                              mode='min',\n",
        "                              factor = 0.1,\n",
        "                              patience = 3,\n",
        "                              min_lr = 1e-5,\n",
        "                              verbose = True)"
      ]
    },
    {
      "cell_type": "code",
      "execution_count": 583,
      "metadata": {
        "id": "ISh2zBRgjb3V"
      },
      "outputs": [
        {
          "name": "stdout",
          "output_type": "stream",
          "text": [
            "672\n",
            "torch.Size([32, 6, 19])\n",
            "torch.Size([32, 6, 19, 19])\n",
            "torch.Size([32])\n"
          ]
        }
      ],
      "source": [
        "print(len(train_dataset))\n",
        "for data in train_loader:\n",
        "    (adj_matrices, node_features), labels = data\n",
        "    print(adj_matrices.shape)\n",
        "    print(node_features.shape)\n",
        "    print(labels.shape)\n",
        "    break"
      ]
    },
    {
      "cell_type": "code",
      "execution_count": 584,
      "metadata": {
        "id": "uNyih7WFjb3V"
      },
      "outputs": [
        {
          "name": "stdout",
          "output_type": "stream",
          "text": [
            "Epoch [1/500], Loss: 1.9228, Acc: 0.1756\n",
            "Validation Loss: 1.9071, Validation Accuracy: 0.1719\n",
            "\n",
            "Epoch [6/500], Loss: 1.9186, Acc: 0.1905\n",
            "Validation Loss: 1.9038, Validation Accuracy: 0.2240\n",
            "\n",
            "Epoch [11/500], Loss: 1.9102, Acc: 0.2083\n",
            "Validation Loss: 1.9021, Validation Accuracy: 0.2344\n",
            "\n",
            "Epoch [16/500], Loss: 1.9028, Acc: 0.2173\n",
            "Validation Loss: 1.8993, Validation Accuracy: 0.2292\n",
            "\n",
            "Epoch [21/500], Loss: 1.8987, Acc: 0.2143\n",
            "Validation Loss: 1.8949, Validation Accuracy: 0.2500\n",
            "\n",
            "Epoch [26/500], Loss: 1.8989, Acc: 0.2143\n",
            "Validation Loss: 1.8915, Validation Accuracy: 0.2448\n",
            "\n",
            "Epoch [31/500], Loss: 1.8807, Acc: 0.2812\n",
            "Validation Loss: 1.8895, Validation Accuracy: 0.2500\n",
            "\n",
            "Epoch [36/500], Loss: 1.8850, Acc: 0.2649\n",
            "Validation Loss: 1.8858, Validation Accuracy: 0.2812\n",
            "\n",
            "Epoch [41/500], Loss: 1.8752, Acc: 0.2500\n",
            "Validation Loss: 1.8831, Validation Accuracy: 0.2917\n",
            "\n",
            "Epoch [46/500], Loss: 1.8691, Acc: 0.2798\n",
            "Validation Loss: 1.8789, Validation Accuracy: 0.3073\n",
            "\n",
            "Epoch [51/500], Loss: 1.8583, Acc: 0.2932\n",
            "Validation Loss: 1.8748, Validation Accuracy: 0.3177\n",
            "\n",
            "Epoch [56/500], Loss: 1.8522, Acc: 0.3021\n",
            "Validation Loss: 1.8726, Validation Accuracy: 0.3073\n",
            "\n",
            "Epoch [61/500], Loss: 1.8509, Acc: 0.2932\n",
            "Validation Loss: 1.8690, Validation Accuracy: 0.3021\n",
            "\n",
            "Epoch [66/500], Loss: 1.8383, Acc: 0.3259\n",
            "Validation Loss: 1.8662, Validation Accuracy: 0.3177\n",
            "\n",
            "Epoch [71/500], Loss: 1.8150, Acc: 0.3497\n",
            "Validation Loss: 1.8589, Validation Accuracy: 0.3125\n",
            "\n",
            "Epoch [76/500], Loss: 1.8053, Acc: 0.3378\n",
            "Validation Loss: 1.8556, Validation Accuracy: 0.3125\n",
            "\n",
            "Epoch [81/500], Loss: 1.7929, Acc: 0.3497\n",
            "Validation Loss: 1.8544, Validation Accuracy: 0.3021\n",
            "\n",
            "Epoch [86/500], Loss: 1.7790, Acc: 0.3676\n",
            "Validation Loss: 1.8479, Validation Accuracy: 0.3073\n",
            "\n",
            "Epoch [91/500], Loss: 1.7774, Acc: 0.3482\n",
            "Validation Loss: 1.8485, Validation Accuracy: 0.3021\n",
            "\n",
            "Epoch [96/500], Loss: 1.7708, Acc: 0.3601\n",
            "Validation Loss: 1.8424, Validation Accuracy: 0.2969\n",
            "\n",
            "Epoch [101/500], Loss: 1.7614, Acc: 0.3661\n",
            "Validation Loss: 1.8449, Validation Accuracy: 0.3021\n",
            "\n",
            "Epoch [106/500], Loss: 1.7408, Acc: 0.3810\n",
            "Validation Loss: 1.8426, Validation Accuracy: 0.2969\n",
            "\n",
            "Epoch [111/500], Loss: 1.7390, Acc: 0.3690\n",
            "Validation Loss: 1.8418, Validation Accuracy: 0.3073\n",
            "\n",
            "Epoch [116/500], Loss: 1.7353, Acc: 0.3690\n",
            "Validation Loss: 1.8377, Validation Accuracy: 0.3073\n",
            "\n",
            "Epoch [121/500], Loss: 1.7165, Acc: 0.3839\n",
            "Validation Loss: 1.8407, Validation Accuracy: 0.2969\n",
            "\n",
            "Epoch [126/500], Loss: 1.7151, Acc: 0.3765\n",
            "Validation Loss: 1.8417, Validation Accuracy: 0.2760\n",
            "\n",
            "Epoch [131/500], Loss: 1.6805, Acc: 0.3943\n",
            "Validation Loss: 1.8380, Validation Accuracy: 0.2812\n",
            "\n",
            "Epoch [136/500], Loss: 1.6917, Acc: 0.3914\n",
            "Validation Loss: 1.8408, Validation Accuracy: 0.2708\n",
            "\n",
            "Epoch [141/500], Loss: 1.6679, Acc: 0.3943\n",
            "Validation Loss: 1.8402, Validation Accuracy: 0.2812\n",
            "\n",
            "Epoch [146/500], Loss: 1.6594, Acc: 0.4033\n",
            "Validation Loss: 1.8402, Validation Accuracy: 0.2812\n",
            "\n",
            "Epoch [151/500], Loss: 1.6498, Acc: 0.4256\n",
            "Validation Loss: 1.8378, Validation Accuracy: 0.2917\n",
            "\n",
            "Epoch [156/500], Loss: 1.6249, Acc: 0.4435\n",
            "Validation Loss: 1.8417, Validation Accuracy: 0.2865\n",
            "\n",
            "Epoch [161/500], Loss: 1.6187, Acc: 0.4271\n",
            "Validation Loss: 1.8396, Validation Accuracy: 0.2760\n",
            "\n",
            "Epoch [166/500], Loss: 1.5902, Acc: 0.4345\n",
            "Validation Loss: 1.8446, Validation Accuracy: 0.2812\n",
            "\n",
            "Epoch [171/500], Loss: 1.5870, Acc: 0.4509\n",
            "Validation Loss: 1.8497, Validation Accuracy: 0.2760\n",
            "\n",
            "Epoch [176/500], Loss: 1.5374, Acc: 0.4732\n",
            "Validation Loss: 1.8549, Validation Accuracy: 0.2708\n",
            "\n",
            "Epoch [181/500], Loss: 1.5404, Acc: 0.4732\n",
            "Validation Loss: 1.8603, Validation Accuracy: 0.2865\n",
            "\n",
            "Epoch [186/500], Loss: 1.5235, Acc: 0.4628\n",
            "Validation Loss: 1.8635, Validation Accuracy: 0.2760\n",
            "\n",
            "Epoch [191/500], Loss: 1.4928, Acc: 0.4732\n",
            "Validation Loss: 1.8671, Validation Accuracy: 0.2812\n",
            "\n",
            "Epoch [196/500], Loss: 1.4963, Acc: 0.4851\n",
            "Validation Loss: 1.8717, Validation Accuracy: 0.2812\n",
            "\n",
            "Epoch [201/500], Loss: 1.4504, Acc: 0.5000\n",
            "Validation Loss: 1.8917, Validation Accuracy: 0.2812\n",
            "\n",
            "Epoch [206/500], Loss: 1.4186, Acc: 0.5015\n",
            "Validation Loss: 1.8911, Validation Accuracy: 0.2760\n",
            "\n",
            "Epoch [211/500], Loss: 1.4050, Acc: 0.5193\n",
            "Validation Loss: 1.9122, Validation Accuracy: 0.2760\n",
            "\n",
            "Epoch [216/500], Loss: 1.3917, Acc: 0.5253\n",
            "Validation Loss: 1.9215, Validation Accuracy: 0.2760\n",
            "\n",
            "Epoch [221/500], Loss: 1.3587, Acc: 0.5268\n",
            "Validation Loss: 1.9272, Validation Accuracy: 0.2812\n",
            "\n",
            "Epoch [226/500], Loss: 1.3429, Acc: 0.5327\n",
            "Validation Loss: 1.9310, Validation Accuracy: 0.2865\n",
            "\n",
            "Epoch [231/500], Loss: 1.3369, Acc: 0.5446\n",
            "Validation Loss: 1.9476, Validation Accuracy: 0.2812\n",
            "\n"
          ]
        },
        {
          "ename": "KeyboardInterrupt",
          "evalue": "",
          "output_type": "error",
          "traceback": [
            "\u001b[0;31m---------------------------------------------------------------------------\u001b[0m",
            "\u001b[0;31mKeyboardInterrupt\u001b[0m                         Traceback (most recent call last)",
            "Cell \u001b[0;32mIn[584], line 36\u001b[0m\n\u001b[1;32m     33\u001b[0m outputs \u001b[38;5;241m=\u001b[39m F\u001b[38;5;241m.\u001b[39msoftmax(outputs, dim\u001b[38;5;241m=\u001b[39m\u001b[38;5;241m1\u001b[39m)\n\u001b[1;32m     34\u001b[0m top_p, top_class \u001b[38;5;241m=\u001b[39m outputs\u001b[38;5;241m.\u001b[39mtopk(k\u001b[38;5;241m=\u001b[39m\u001b[38;5;241m1\u001b[39m, dim\u001b[38;5;241m=\u001b[39m\u001b[38;5;241m1\u001b[39m)\n\u001b[0;32m---> 36\u001b[0m \u001b[43moptimizer\u001b[49m\u001b[38;5;241;43m.\u001b[39;49m\u001b[43mstep\u001b[49m\u001b[43m(\u001b[49m\u001b[43m)\u001b[49m\n\u001b[1;32m     38\u001b[0m running_loss \u001b[38;5;241m+\u001b[39m\u001b[38;5;241m=\u001b[39m loss\u001b[38;5;241m.\u001b[39mitem()\n\u001b[1;32m     40\u001b[0m _, predicted \u001b[38;5;241m=\u001b[39m torch\u001b[38;5;241m.\u001b[39mmax(outputs\u001b[38;5;241m.\u001b[39mdata, \u001b[38;5;241m1\u001b[39m)\n",
            "File \u001b[0;32m~/.pyenv/versions/3.10.4/Library/Frameworks/Python.framework/Versions/3.10/lib/python3.10/site-packages/torch/optim/optimizer.py:385\u001b[0m, in \u001b[0;36mOptimizer.profile_hook_step.<locals>.wrapper\u001b[0;34m(*args, **kwargs)\u001b[0m\n\u001b[1;32m    380\u001b[0m         \u001b[38;5;28;01melse\u001b[39;00m:\n\u001b[1;32m    381\u001b[0m             \u001b[38;5;28;01mraise\u001b[39;00m \u001b[38;5;167;01mRuntimeError\u001b[39;00m(\n\u001b[1;32m    382\u001b[0m                 \u001b[38;5;124mf\u001b[39m\u001b[38;5;124m\"\u001b[39m\u001b[38;5;132;01m{\u001b[39;00mfunc\u001b[38;5;132;01m}\u001b[39;00m\u001b[38;5;124m must return None or a tuple of (new_args, new_kwargs), but got \u001b[39m\u001b[38;5;132;01m{\u001b[39;00mresult\u001b[38;5;132;01m}\u001b[39;00m\u001b[38;5;124m.\u001b[39m\u001b[38;5;124m\"\u001b[39m\n\u001b[1;32m    383\u001b[0m             )\n\u001b[0;32m--> 385\u001b[0m out \u001b[38;5;241m=\u001b[39m \u001b[43mfunc\u001b[49m\u001b[43m(\u001b[49m\u001b[38;5;241;43m*\u001b[39;49m\u001b[43margs\u001b[49m\u001b[43m,\u001b[49m\u001b[43m \u001b[49m\u001b[38;5;241;43m*\u001b[39;49m\u001b[38;5;241;43m*\u001b[39;49m\u001b[43mkwargs\u001b[49m\u001b[43m)\u001b[49m\n\u001b[1;32m    386\u001b[0m \u001b[38;5;28mself\u001b[39m\u001b[38;5;241m.\u001b[39m_optimizer_step_code()\n\u001b[1;32m    388\u001b[0m \u001b[38;5;66;03m# call optimizer step post hooks\u001b[39;00m\n",
            "File \u001b[0;32m~/.pyenv/versions/3.10.4/Library/Frameworks/Python.framework/Versions/3.10/lib/python3.10/site-packages/torch/optim/optimizer.py:76\u001b[0m, in \u001b[0;36m_use_grad_for_differentiable.<locals>._use_grad\u001b[0;34m(self, *args, **kwargs)\u001b[0m\n\u001b[1;32m     74\u001b[0m     torch\u001b[38;5;241m.\u001b[39mset_grad_enabled(\u001b[38;5;28mself\u001b[39m\u001b[38;5;241m.\u001b[39mdefaults[\u001b[38;5;124m'\u001b[39m\u001b[38;5;124mdifferentiable\u001b[39m\u001b[38;5;124m'\u001b[39m])\n\u001b[1;32m     75\u001b[0m     torch\u001b[38;5;241m.\u001b[39m_dynamo\u001b[38;5;241m.\u001b[39mgraph_break()\n\u001b[0;32m---> 76\u001b[0m     ret \u001b[38;5;241m=\u001b[39m \u001b[43mfunc\u001b[49m\u001b[43m(\u001b[49m\u001b[38;5;28;43mself\u001b[39;49m\u001b[43m,\u001b[49m\u001b[43m \u001b[49m\u001b[38;5;241;43m*\u001b[39;49m\u001b[43margs\u001b[49m\u001b[43m,\u001b[49m\u001b[43m \u001b[49m\u001b[38;5;241;43m*\u001b[39;49m\u001b[38;5;241;43m*\u001b[39;49m\u001b[43mkwargs\u001b[49m\u001b[43m)\u001b[49m\n\u001b[1;32m     77\u001b[0m \u001b[38;5;28;01mfinally\u001b[39;00m:\n\u001b[1;32m     78\u001b[0m     torch\u001b[38;5;241m.\u001b[39m_dynamo\u001b[38;5;241m.\u001b[39mgraph_break()\n",
            "File \u001b[0;32m~/.pyenv/versions/3.10.4/Library/Frameworks/Python.framework/Versions/3.10/lib/python3.10/site-packages/torch/optim/adam.py:166\u001b[0m, in \u001b[0;36mAdam.step\u001b[0;34m(self, closure)\u001b[0m\n\u001b[1;32m    155\u001b[0m     beta1, beta2 \u001b[38;5;241m=\u001b[39m group[\u001b[38;5;124m'\u001b[39m\u001b[38;5;124mbetas\u001b[39m\u001b[38;5;124m'\u001b[39m]\n\u001b[1;32m    157\u001b[0m     has_complex \u001b[38;5;241m=\u001b[39m \u001b[38;5;28mself\u001b[39m\u001b[38;5;241m.\u001b[39m_init_group(\n\u001b[1;32m    158\u001b[0m         group,\n\u001b[1;32m    159\u001b[0m         params_with_grad,\n\u001b[0;32m   (...)\u001b[0m\n\u001b[1;32m    163\u001b[0m         max_exp_avg_sqs,\n\u001b[1;32m    164\u001b[0m         state_steps)\n\u001b[0;32m--> 166\u001b[0m     \u001b[43madam\u001b[49m\u001b[43m(\u001b[49m\n\u001b[1;32m    167\u001b[0m \u001b[43m        \u001b[49m\u001b[43mparams_with_grad\u001b[49m\u001b[43m,\u001b[49m\n\u001b[1;32m    168\u001b[0m \u001b[43m        \u001b[49m\u001b[43mgrads\u001b[49m\u001b[43m,\u001b[49m\n\u001b[1;32m    169\u001b[0m \u001b[43m        \u001b[49m\u001b[43mexp_avgs\u001b[49m\u001b[43m,\u001b[49m\n\u001b[1;32m    170\u001b[0m \u001b[43m        \u001b[49m\u001b[43mexp_avg_sqs\u001b[49m\u001b[43m,\u001b[49m\n\u001b[1;32m    171\u001b[0m \u001b[43m        \u001b[49m\u001b[43mmax_exp_avg_sqs\u001b[49m\u001b[43m,\u001b[49m\n\u001b[1;32m    172\u001b[0m \u001b[43m        \u001b[49m\u001b[43mstate_steps\u001b[49m\u001b[43m,\u001b[49m\n\u001b[1;32m    173\u001b[0m \u001b[43m        \u001b[49m\u001b[43mamsgrad\u001b[49m\u001b[38;5;241;43m=\u001b[39;49m\u001b[43mgroup\u001b[49m\u001b[43m[\u001b[49m\u001b[38;5;124;43m'\u001b[39;49m\u001b[38;5;124;43mamsgrad\u001b[39;49m\u001b[38;5;124;43m'\u001b[39;49m\u001b[43m]\u001b[49m\u001b[43m,\u001b[49m\n\u001b[1;32m    174\u001b[0m \u001b[43m        \u001b[49m\u001b[43mhas_complex\u001b[49m\u001b[38;5;241;43m=\u001b[39;49m\u001b[43mhas_complex\u001b[49m\u001b[43m,\u001b[49m\n\u001b[1;32m    175\u001b[0m \u001b[43m        \u001b[49m\u001b[43mbeta1\u001b[49m\u001b[38;5;241;43m=\u001b[39;49m\u001b[43mbeta1\u001b[49m\u001b[43m,\u001b[49m\n\u001b[1;32m    176\u001b[0m \u001b[43m        \u001b[49m\u001b[43mbeta2\u001b[49m\u001b[38;5;241;43m=\u001b[39;49m\u001b[43mbeta2\u001b[49m\u001b[43m,\u001b[49m\n\u001b[1;32m    177\u001b[0m \u001b[43m        \u001b[49m\u001b[43mlr\u001b[49m\u001b[38;5;241;43m=\u001b[39;49m\u001b[43mgroup\u001b[49m\u001b[43m[\u001b[49m\u001b[38;5;124;43m'\u001b[39;49m\u001b[38;5;124;43mlr\u001b[39;49m\u001b[38;5;124;43m'\u001b[39;49m\u001b[43m]\u001b[49m\u001b[43m,\u001b[49m\n\u001b[1;32m    178\u001b[0m \u001b[43m        \u001b[49m\u001b[43mweight_decay\u001b[49m\u001b[38;5;241;43m=\u001b[39;49m\u001b[43mgroup\u001b[49m\u001b[43m[\u001b[49m\u001b[38;5;124;43m'\u001b[39;49m\u001b[38;5;124;43mweight_decay\u001b[39;49m\u001b[38;5;124;43m'\u001b[39;49m\u001b[43m]\u001b[49m\u001b[43m,\u001b[49m\n\u001b[1;32m    179\u001b[0m \u001b[43m        \u001b[49m\u001b[43meps\u001b[49m\u001b[38;5;241;43m=\u001b[39;49m\u001b[43mgroup\u001b[49m\u001b[43m[\u001b[49m\u001b[38;5;124;43m'\u001b[39;49m\u001b[38;5;124;43meps\u001b[39;49m\u001b[38;5;124;43m'\u001b[39;49m\u001b[43m]\u001b[49m\u001b[43m,\u001b[49m\n\u001b[1;32m    180\u001b[0m \u001b[43m        \u001b[49m\u001b[43mmaximize\u001b[49m\u001b[38;5;241;43m=\u001b[39;49m\u001b[43mgroup\u001b[49m\u001b[43m[\u001b[49m\u001b[38;5;124;43m'\u001b[39;49m\u001b[38;5;124;43mmaximize\u001b[39;49m\u001b[38;5;124;43m'\u001b[39;49m\u001b[43m]\u001b[49m\u001b[43m,\u001b[49m\n\u001b[1;32m    181\u001b[0m \u001b[43m        \u001b[49m\u001b[43mforeach\u001b[49m\u001b[38;5;241;43m=\u001b[39;49m\u001b[43mgroup\u001b[49m\u001b[43m[\u001b[49m\u001b[38;5;124;43m'\u001b[39;49m\u001b[38;5;124;43mforeach\u001b[39;49m\u001b[38;5;124;43m'\u001b[39;49m\u001b[43m]\u001b[49m\u001b[43m,\u001b[49m\n\u001b[1;32m    182\u001b[0m \u001b[43m        \u001b[49m\u001b[43mcapturable\u001b[49m\u001b[38;5;241;43m=\u001b[39;49m\u001b[43mgroup\u001b[49m\u001b[43m[\u001b[49m\u001b[38;5;124;43m'\u001b[39;49m\u001b[38;5;124;43mcapturable\u001b[39;49m\u001b[38;5;124;43m'\u001b[39;49m\u001b[43m]\u001b[49m\u001b[43m,\u001b[49m\n\u001b[1;32m    183\u001b[0m \u001b[43m        \u001b[49m\u001b[43mdifferentiable\u001b[49m\u001b[38;5;241;43m=\u001b[39;49m\u001b[43mgroup\u001b[49m\u001b[43m[\u001b[49m\u001b[38;5;124;43m'\u001b[39;49m\u001b[38;5;124;43mdifferentiable\u001b[39;49m\u001b[38;5;124;43m'\u001b[39;49m\u001b[43m]\u001b[49m\u001b[43m,\u001b[49m\n\u001b[1;32m    184\u001b[0m \u001b[43m        \u001b[49m\u001b[43mfused\u001b[49m\u001b[38;5;241;43m=\u001b[39;49m\u001b[43mgroup\u001b[49m\u001b[43m[\u001b[49m\u001b[38;5;124;43m'\u001b[39;49m\u001b[38;5;124;43mfused\u001b[39;49m\u001b[38;5;124;43m'\u001b[39;49m\u001b[43m]\u001b[49m\u001b[43m,\u001b[49m\n\u001b[1;32m    185\u001b[0m \u001b[43m        \u001b[49m\u001b[43mgrad_scale\u001b[49m\u001b[38;5;241;43m=\u001b[39;49m\u001b[38;5;28;43mgetattr\u001b[39;49m\u001b[43m(\u001b[49m\u001b[38;5;28;43mself\u001b[39;49m\u001b[43m,\u001b[49m\u001b[43m \u001b[49m\u001b[38;5;124;43m\"\u001b[39;49m\u001b[38;5;124;43mgrad_scale\u001b[39;49m\u001b[38;5;124;43m\"\u001b[39;49m\u001b[43m,\u001b[49m\u001b[43m \u001b[49m\u001b[38;5;28;43;01mNone\u001b[39;49;00m\u001b[43m)\u001b[49m\u001b[43m,\u001b[49m\n\u001b[1;32m    186\u001b[0m \u001b[43m        \u001b[49m\u001b[43mfound_inf\u001b[49m\u001b[38;5;241;43m=\u001b[39;49m\u001b[38;5;28;43mgetattr\u001b[39;49m\u001b[43m(\u001b[49m\u001b[38;5;28;43mself\u001b[39;49m\u001b[43m,\u001b[49m\u001b[43m \u001b[49m\u001b[38;5;124;43m\"\u001b[39;49m\u001b[38;5;124;43mfound_inf\u001b[39;49m\u001b[38;5;124;43m\"\u001b[39;49m\u001b[43m,\u001b[49m\u001b[43m \u001b[49m\u001b[38;5;28;43;01mNone\u001b[39;49;00m\u001b[43m)\u001b[49m\u001b[43m,\u001b[49m\n\u001b[1;32m    187\u001b[0m \u001b[43m    \u001b[49m\u001b[43m)\u001b[49m\n\u001b[1;32m    189\u001b[0m \u001b[38;5;28;01mreturn\u001b[39;00m loss\n",
            "File \u001b[0;32m~/.pyenv/versions/3.10.4/Library/Frameworks/Python.framework/Versions/3.10/lib/python3.10/site-packages/torch/optim/adam.py:316\u001b[0m, in \u001b[0;36madam\u001b[0;34m(params, grads, exp_avgs, exp_avg_sqs, max_exp_avg_sqs, state_steps, foreach, capturable, differentiable, fused, grad_scale, found_inf, has_complex, amsgrad, beta1, beta2, lr, weight_decay, eps, maximize)\u001b[0m\n\u001b[1;32m    313\u001b[0m \u001b[38;5;28;01melse\u001b[39;00m:\n\u001b[1;32m    314\u001b[0m     func \u001b[38;5;241m=\u001b[39m _single_tensor_adam\n\u001b[0;32m--> 316\u001b[0m \u001b[43mfunc\u001b[49m\u001b[43m(\u001b[49m\u001b[43mparams\u001b[49m\u001b[43m,\u001b[49m\n\u001b[1;32m    317\u001b[0m \u001b[43m     \u001b[49m\u001b[43mgrads\u001b[49m\u001b[43m,\u001b[49m\n\u001b[1;32m    318\u001b[0m \u001b[43m     \u001b[49m\u001b[43mexp_avgs\u001b[49m\u001b[43m,\u001b[49m\n\u001b[1;32m    319\u001b[0m \u001b[43m     \u001b[49m\u001b[43mexp_avg_sqs\u001b[49m\u001b[43m,\u001b[49m\n\u001b[1;32m    320\u001b[0m \u001b[43m     \u001b[49m\u001b[43mmax_exp_avg_sqs\u001b[49m\u001b[43m,\u001b[49m\n\u001b[1;32m    321\u001b[0m \u001b[43m     \u001b[49m\u001b[43mstate_steps\u001b[49m\u001b[43m,\u001b[49m\n\u001b[1;32m    322\u001b[0m \u001b[43m     \u001b[49m\u001b[43mamsgrad\u001b[49m\u001b[38;5;241;43m=\u001b[39;49m\u001b[43mamsgrad\u001b[49m\u001b[43m,\u001b[49m\n\u001b[1;32m    323\u001b[0m \u001b[43m     \u001b[49m\u001b[43mhas_complex\u001b[49m\u001b[38;5;241;43m=\u001b[39;49m\u001b[43mhas_complex\u001b[49m\u001b[43m,\u001b[49m\n\u001b[1;32m    324\u001b[0m \u001b[43m     \u001b[49m\u001b[43mbeta1\u001b[49m\u001b[38;5;241;43m=\u001b[39;49m\u001b[43mbeta1\u001b[49m\u001b[43m,\u001b[49m\n\u001b[1;32m    325\u001b[0m \u001b[43m     \u001b[49m\u001b[43mbeta2\u001b[49m\u001b[38;5;241;43m=\u001b[39;49m\u001b[43mbeta2\u001b[49m\u001b[43m,\u001b[49m\n\u001b[1;32m    326\u001b[0m \u001b[43m     \u001b[49m\u001b[43mlr\u001b[49m\u001b[38;5;241;43m=\u001b[39;49m\u001b[43mlr\u001b[49m\u001b[43m,\u001b[49m\n\u001b[1;32m    327\u001b[0m \u001b[43m     \u001b[49m\u001b[43mweight_decay\u001b[49m\u001b[38;5;241;43m=\u001b[39;49m\u001b[43mweight_decay\u001b[49m\u001b[43m,\u001b[49m\n\u001b[1;32m    328\u001b[0m \u001b[43m     \u001b[49m\u001b[43meps\u001b[49m\u001b[38;5;241;43m=\u001b[39;49m\u001b[43meps\u001b[49m\u001b[43m,\u001b[49m\n\u001b[1;32m    329\u001b[0m \u001b[43m     \u001b[49m\u001b[43mmaximize\u001b[49m\u001b[38;5;241;43m=\u001b[39;49m\u001b[43mmaximize\u001b[49m\u001b[43m,\u001b[49m\n\u001b[1;32m    330\u001b[0m \u001b[43m     \u001b[49m\u001b[43mcapturable\u001b[49m\u001b[38;5;241;43m=\u001b[39;49m\u001b[43mcapturable\u001b[49m\u001b[43m,\u001b[49m\n\u001b[1;32m    331\u001b[0m \u001b[43m     \u001b[49m\u001b[43mdifferentiable\u001b[49m\u001b[38;5;241;43m=\u001b[39;49m\u001b[43mdifferentiable\u001b[49m\u001b[43m,\u001b[49m\n\u001b[1;32m    332\u001b[0m \u001b[43m     \u001b[49m\u001b[43mgrad_scale\u001b[49m\u001b[38;5;241;43m=\u001b[39;49m\u001b[43mgrad_scale\u001b[49m\u001b[43m,\u001b[49m\n\u001b[1;32m    333\u001b[0m \u001b[43m     \u001b[49m\u001b[43mfound_inf\u001b[49m\u001b[38;5;241;43m=\u001b[39;49m\u001b[43mfound_inf\u001b[49m\u001b[43m)\u001b[49m\n",
            "File \u001b[0;32m~/.pyenv/versions/3.10.4/Library/Frameworks/Python.framework/Versions/3.10/lib/python3.10/site-packages/torch/optim/adam.py:391\u001b[0m, in \u001b[0;36m_single_tensor_adam\u001b[0;34m(params, grads, exp_avgs, exp_avg_sqs, max_exp_avg_sqs, state_steps, grad_scale, found_inf, amsgrad, has_complex, beta1, beta2, lr, weight_decay, eps, maximize, capturable, differentiable)\u001b[0m\n\u001b[1;32m    388\u001b[0m     param \u001b[38;5;241m=\u001b[39m torch\u001b[38;5;241m.\u001b[39mview_as_real(param)\n\u001b[1;32m    390\u001b[0m \u001b[38;5;66;03m# Decay the first and second moment running average coefficient\u001b[39;00m\n\u001b[0;32m--> 391\u001b[0m \u001b[43mexp_avg\u001b[49m\u001b[38;5;241;43m.\u001b[39;49m\u001b[43mlerp_\u001b[49m\u001b[43m(\u001b[49m\u001b[43mgrad\u001b[49m\u001b[43m,\u001b[49m\u001b[43m \u001b[49m\u001b[38;5;241;43m1\u001b[39;49m\u001b[43m \u001b[49m\u001b[38;5;241;43m-\u001b[39;49m\u001b[43m \u001b[49m\u001b[43mbeta1\u001b[49m\u001b[43m)\u001b[49m\n\u001b[1;32m    392\u001b[0m exp_avg_sq\u001b[38;5;241m.\u001b[39mmul_(beta2)\u001b[38;5;241m.\u001b[39maddcmul_(grad, grad\u001b[38;5;241m.\u001b[39mconj(), value\u001b[38;5;241m=\u001b[39m\u001b[38;5;241m1\u001b[39m \u001b[38;5;241m-\u001b[39m beta2)\n\u001b[1;32m    394\u001b[0m \u001b[38;5;28;01mif\u001b[39;00m capturable \u001b[38;5;129;01mor\u001b[39;00m differentiable:\n",
            "\u001b[0;31mKeyboardInterrupt\u001b[0m: "
          ]
        }
      ],
      "source": [
        "best_loss = np.inf\n",
        "patience = 20\n",
        "min_delta = 0.01\n",
        "early_stop_counter = 0\n",
        "\n",
        "train_losses = []\n",
        "train_accs = []\n",
        "val_losses = []\n",
        "val_accs = []\n",
        "final_epoch = 0\n",
        "\n",
        "num_epochs = 500\n",
        "\n",
        "for epoch in range(num_epochs):\n",
        "\n",
        "    # train\n",
        "    model.train()\n",
        "    running_loss = 0.\n",
        "    running_accuracy = 0.\n",
        "\n",
        "    for data in train_loader:\n",
        "        inputs, labels = data\n",
        "\n",
        "        optimizer.zero_grad()  # zero gradients\n",
        "\n",
        "        outputs = model.forward(*inputs)  # input net\n",
        "\n",
        "        labels = labels.long()\n",
        "\n",
        "        loss = criterion(outputs, labels)\n",
        "        loss.backward()\n",
        "\n",
        "        outputs = F.softmax(outputs, dim=1)\n",
        "        top_p, top_class = outputs.topk(k=1, dim=1)\n",
        "\n",
        "        optimizer.step()\n",
        "\n",
        "        running_loss += loss.item()\n",
        "\n",
        "        _, predicted = torch.max(outputs.data, 1)\n",
        "        accuracy = (predicted == labels).float().sum()\n",
        "        running_accuracy += accuracy.item()\n",
        "\n",
        "    epoch_loss = running_loss / len(train_loader)\n",
        "    epoch_accuracy = running_accuracy / len(train_dataset)\n",
        "    train_accs.append(epoch_accuracy)\n",
        "\n",
        "    if epoch % 5 == 0:\n",
        "        print(f\"Epoch [{epoch + 1}/{num_epochs}], Loss: {epoch_loss:.4f}, Acc: {epoch_accuracy:.4f}\")\n",
        "    train_losses.append(epoch_loss)\n",
        "\n",
        "    # val\n",
        "    model.eval()\n",
        "    val_loss = 0.0\n",
        "    val_accuracy = 0.0\n",
        "    correct = total = 0\n",
        "\n",
        "    with torch.no_grad():\n",
        "        for data in val_loader:\n",
        "            inputs, labels = data\n",
        "\n",
        "            outputs = model(*inputs)\n",
        "\n",
        "            loss = criterion(outputs, labels)\n",
        "            val_loss += loss.item()\n",
        "\n",
        "            _, predicted = torch.max(outputs.data, 1)\n",
        "\n",
        "            accuracy = (predicted == labels).float().mean()\n",
        "            val_accuracy += accuracy.item()\n",
        "\n",
        "    val_loss /= len(val_loader)\n",
        "    val_accuracy /= len(val_loader)\n",
        "\n",
        "    if epoch % 5 == 0:\n",
        "        print(f\"Validation Loss: {val_loss:.4f}, Validation Accuracy: {val_accuracy:.4f}\\n\")\n",
        "    val_losses.append(val_loss)\n",
        "    val_accs.append(val_accuracy)\n",
        "\n",
        "\n",
        "    # Early stopping\n",
        "    if val_loss < best_loss - min_delta:\n",
        "        best_loss = val_loss\n",
        "        early_stop_counter = 0\n",
        "        #best_model_state = model.state_dict()\n",
        "    else:\n",
        "        early_stop_counter += 1\n",
        "\n",
        "    # if early_stop_counter >= patience:\n",
        "    #     print(f\"Early stopping at epoch {epoch+1}.\")\n",
        "    #     final_epoch = epoch+1\n",
        "    #     #model.load_state_dict(best_model_state)\n",
        "    #     break\n",
        "\n",
        "    scheduler.step(val_loss)"
      ]
    },
    {
      "cell_type": "code",
      "execution_count": 585,
      "metadata": {
        "id": "2b0EgE8Ijb3V"
      },
      "outputs": [
        {
          "data": {
            "image/png": "[encoded data removed]",
            "text/plain": [
              "<Figure size 640x480 with 1 Axes>"
            ]
          },
          "metadata": {},
          "output_type": "display_data"
        },
        {
          "data": {
            "image/png": "[encoded data removed]",
            "text/plain": [
              "<Figure size 640x480 with 1 Axes>"
            ]
          },
          "metadata": {},
          "output_type": "display_data"
        }
      ],
      "source": [
        "# plot accuracy and loss\n",
        "import matplotlib.pyplot as plt\n",
        "\n",
        "plt.plot(train_losses, label='Training loss')\n",
        "plt.plot(val_losses, label='Validation loss')\n",
        "plt.legend()\n",
        "plt.show()\n",
        "\n",
        "plt.plot(train_accs, label='Training accuracy')\n",
        "plt.plot(val_accs, label='Validation accuracy')\n",
        "plt.legend()\n",
        "plt.show()"
      ]
    },
    {
      "cell_type": "code",
      "execution_count": 586,
      "metadata": {
        "id": "Q1xGKyyKjb3W"
      },
      "outputs": [
        {
          "data": {
            "text/plain": [
              "0.3177083333333333"
            ]
          },
          "execution_count": 586,
          "metadata": {},
          "output_type": "execute_result"
        }
      ],
      "source": [
        "max(val_accs)"
      ]
    }
  ],
  "metadata": {
    "accelerator": "GPU",
    "colab": {
      "gpuType": "T4",
      "provenance": []
    },
    "kernelspec": {
      "display_name": "Python 3",
      "name": "python3"
    },
    "language_info": {
      "codemirror_mode": {
        "name": "ipython",
        "version": 3
      },
      "file_extension": ".py",
      "mimetype": "text/x-python",
      "name": "python",
      "nbconvert_exporter": "python",
      "pygments_lexer": "ipython3",
      "version": "3.10.4"
    }
  },
  "nbformat": 4,
  "nbformat_minor": 0
}
