{
 "cells": [
  {
   "cell_type": "code",
   "execution_count": 128,
   "metadata": {},
   "outputs": [],
   "source": [
    "import torch\n",
    "import torch.nn as nn\n",
    "import torch.nn.init as init\n",
    "import torch.optim as optim\n",
    "import torch.nn.functional as F\n",
    "# torhc dataset\n",
    "from torch.utils.data import Dataset, DataLoader\n",
    "\n",
    "# train test split\n",
    "from sklearn.model_selection import train_test_split\n",
    "\n",
    "from torch.optim.lr_scheduler import ReduceLROnPlateau\n",
    "\n",
    "import pandas as pd\n",
    "from sklearn.decomposition import PCA\n",
    "from imblearn.over_sampling import SMOTE\n",
    "\n",
    "#import summary for models\n",
    "from torchsummary import summary\n",
    "\n",
    "import numpy as np\n",
    "from sklearn.preprocessing import StandardScaler, OrdinalEncoder"
   ]
  },
  {
   "cell_type": "code",
   "execution_count": 129,
   "metadata": {},
   "outputs": [],
   "source": [
    "all_data = pd.read_csv(\"../Data/Train_and_Validate_EEG.csv\", index_col=0).drop(\"Unnamed: 122\",axis=1)\n",
    "data = all_data.drop(['sex','eeg.date','education','specific.disorder'], axis=1).dropna(axis=0)\n",
    "\n",
    "# Encode disorders\n",
    "encoder = OrdinalEncoder()\n",
    "data[['main.disorder']] = encoder.fit_transform(data[['main.disorder']])\n",
    "\n",
    "X = data.drop(['main.disorder'], axis=1).dropna(axis=0)\n",
    "y = data['main.disorder']\n",
    "X_train, X_val, y_train, y_val = train_test_split(X, y, test_size=0.2, random_state=42)"
   ]
  },
  {
   "cell_type": "code",
   "execution_count": 130,
   "metadata": {},
   "outputs": [],
   "source": [
    "bands = ['gamma', 'highbeta', 'beta', 'alpha', 'theta', 'delta']\n",
    "bands2 = ['F.gamma', 'E.highbeta', 'D.beta', 'C.alpha', 'B.theta', 'A.delta']\n",
    "\n",
    "# Separate column names based on whether they are PSD or coherence\n",
    "AB_per_band = {}\n",
    "AB_cols = []\n",
    "COH_per_band = {}\n",
    "COH_cols = []\n",
    "\n",
    "for band in bands:\n",
    "    AB_per_band[band] = []\n",
    "    COH_per_band[band] = []\n",
    "\n",
    "for col_name in X_train.drop(['age','IQ'], axis=1).columns:\n",
    "    col_split = col_name.split('.')\n",
    "    if col_split[0] == 'AB':\n",
    "        AB_per_band[col_split[2]].append(col_name)\n",
    "        AB_cols.append(col_name)\n",
    "    else:\n",
    "        COH_per_band[col_split[2]].append(col_name)\n",
    "        COH_cols.append(col_name)"
   ]
  },
  {
   "cell_type": "code",
   "execution_count": 131,
   "metadata": {},
   "outputs": [
    {
     "data": {
      "text/plain": [
       "19"
      ]
     },
     "execution_count": 131,
     "metadata": {},
     "output_type": "execute_result"
    }
   ],
   "source": [
    "# Get all electrode names\n",
    "electrodes = set()\n",
    "for col in COH_cols:\n",
    "    col_split = col.split('.')\n",
    "    # elec1 = col_split[4]\n",
    "    electrodes.add(col_split[3]+'.'+col_split[4])\n",
    "    # elec2 = col_split[6]\n",
    "    electrodes.add(col_split[5]+'.'+col_split[6])\n",
    "\n",
    "electrodes = list(electrodes)\n",
    "len(electrodes)"
   ]
  },
  {
   "cell_type": "markdown",
   "metadata": {},
   "source": [
    "## data preprocessing\n",
    "coherence data shape = [num individuals, frequency bands, electrodes, electrodes]\n",
    "PSD data shape = [num individuals, frequency bands, electrodes]"
   ]
  },
  {
   "cell_type": "code",
   "execution_count": 132,
   "metadata": {},
   "outputs": [],
   "source": [
    "num_samples = X_train.shape[0]\n",
    "num_nodes = len(electrodes)\n",
    "num_bands = len(bands)"
   ]
  },
  {
   "cell_type": "code",
   "execution_count": 133,
   "metadata": {},
   "outputs": [],
   "source": [
    "def getCoherenceStacked(coherence):\n",
    "    adj_tensors = []\n",
    "\n",
    "    # for each individual\n",
    "    for i in range(coherence.shape[0]):\n",
    "        indiv_tensors = []\n",
    "\n",
    "        # for each band\n",
    "        for band_idx in range(len(bands2)):\n",
    "            # adjacency matrix electrodes x electrodes\n",
    "            adj_matrix = np.zeros([len(electrodes),len(electrodes)])\n",
    "\n",
    "            for elec1 in range(len(electrodes)):\n",
    "                for elec2 in range(elec1+1, len(electrodes)):\n",
    "                    col_name = 'COH.'+bands2[band_idx]+'.'+electrodes[elec1]+'.'+electrodes[elec2]\n",
    "                    if col_name in coherence.columns:\n",
    "                        adj_matrix[elec1][elec2] = coherence.iloc[i,:][col_name] #individual's row, then get value\n",
    "                    else: \n",
    "                        col_name = 'COH.'+bands2[band_idx]+'.'+electrodes[elec2]+'.'+electrodes[elec1]\n",
    "                        adj_matrix[elec1][elec2] = coherence.iloc[i,:][col_name] #individual's row, then get value\n",
    "            indiv_tensors.append(torch.from_numpy(adj_matrix).fill_diagonal_(1.0))\n",
    "\n",
    "        adj_tensors.append(torch.stack(indiv_tensors))\n",
    "    \n",
    "    adj_matrices = torch.stack(adj_tensors)\n",
    "    # print(adj_matrices.shape)\n",
    "    adj_matrices = (adj_matrices + adj_matrices.transpose(2, 3)) / 2  # Ensure symmetry\n",
    "    print(adj_matrices.shape)\n",
    "    return adj_matrices"
   ]
  },
  {
   "cell_type": "code",
   "execution_count": 134,
   "metadata": {},
   "outputs": [],
   "source": [
    "def getPSDStacked(psd):\n",
    "    psd_tensors = []\n",
    "    # for each individual\n",
    "    for i in range(psd.shape[0]):\n",
    "        psd_mat = np.zeros([len(electrodes),len(bands2)])\n",
    "\n",
    "        # for each band\n",
    "        for band_idx in range(len(bands2)):\n",
    "            for elec1 in range(len(electrodes)):\n",
    "                col_name = 'AB.'+bands2[band_idx]+'.'+electrodes[elec1]\n",
    "                psd_mat[elec1][band_idx] = psd.iloc[i,:][col_name] #individual's row, then get value\n",
    "            \n",
    "        psd_tensors.append(torch.from_numpy(psd_mat))\n",
    "\n",
    "    node_features = torch.stack(psd_tensors)\n",
    "    print(node_features.shape)\n",
    "    return node_features"
   ]
  },
  {
   "cell_type": "code",
   "execution_count": 135,
   "metadata": {},
   "outputs": [
    {
     "name": "stdout",
     "output_type": "stream",
     "text": [
      "torch.Size([672, 6, 19, 19])\n",
      "torch.Size([168, 6, 19, 19])\n"
     ]
    }
   ],
   "source": [
    "adj_matrices = getCoherenceStacked(X_train)\n",
    "adj_matrices_val = getCoherenceStacked(X_val)"
   ]
  },
  {
   "cell_type": "code",
   "execution_count": 136,
   "metadata": {},
   "outputs": [
    {
     "name": "stdout",
     "output_type": "stream",
     "text": [
      "torch.Size([672, 19, 6])\n",
      "torch.Size([168, 19, 6])\n"
     ]
    }
   ],
   "source": [
    "node_features = getPSDStacked(X_train)\n",
    "node_features_val = getPSDStacked(X_val)"
   ]
  },
  {
   "cell_type": "code",
   "execution_count": 137,
   "metadata": {},
   "outputs": [
    {
     "name": "stdout",
     "output_type": "stream",
     "text": [
      "torch.Size([672, 6, 19, 19])\n"
     ]
    },
    {
     "name": "stderr",
     "output_type": "stream",
     "text": [
      "/var/folders/pz/bsrlw1051zq7wv21r5cq1y280000gn/T/ipykernel_20973/3968449242.py:4: UserWarning: To copy construct from a tensor, it is recommended to use sourceTensor.clone().detach() or sourceTensor.clone().detach().requires_grad_(True), rather than torch.tensor(sourceTensor).\n",
      "  self.adj_matrices = torch.tensor(adj_matrices, dtype=torch.float32)\n",
      "/var/folders/pz/bsrlw1051zq7wv21r5cq1y280000gn/T/ipykernel_20973/3968449242.py:5: UserWarning: To copy construct from a tensor, it is recommended to use sourceTensor.clone().detach() or sourceTensor.clone().detach().requires_grad_(True), rather than torch.tensor(sourceTensor).\n",
      "  self.node_features = torch.tensor(node_features, dtype=torch.float32)\n"
     ]
    }
   ],
   "source": [
    "# create data loaders from adj_matrices and node_features\n",
    "class EEGDataset(Dataset):\n",
    "    def __init__(self, adj_matrices, node_features, labels):\n",
    "        self.adj_matrices = torch.tensor(adj_matrices, dtype=torch.float32)\n",
    "        self.node_features = torch.tensor(node_features, dtype=torch.float32)\n",
    "        self.labels = torch.tensor(labels.to_list(), dtype=torch.long)\n",
    "        if len(self.adj_matrices) != len(self.labels):\n",
    "            raise ValueError(\"Adjacency matrices and labels must have the same length: {} != {}\".format(len(self.adj_matrices), len(self.labels)))\n",
    "        if len(self.node_features) != len(self.labels):\n",
    "            raise ValueError(\"Node features and labels must have the same length: {} != {}\".format(len(self.node_features), len(self.labels)))\n",
    "\n",
    "    def __len__(self):\n",
    "        return len(self.labels)\n",
    "\n",
    "    def __getitem__(self, idx):\n",
    "        return self.node_features[idx], self.labels[idx]\n",
    "\n",
    "print(adj_matrices.shape)\n",
    "train_dataset = EEGDataset(adj_matrices, node_features, y_train)\n",
    "val_dataset = EEGDataset(adj_matrices_val, node_features_val, y_val)\n",
    "\n",
    "train_loader = DataLoader(train_dataset, batch_size=32, shuffle=True)\n",
    "val_loader = DataLoader(val_dataset, batch_size=32, shuffle=False)"
   ]
  },
  {
   "cell_type": "markdown",
   "metadata": {},
   "source": [
    "## modeling"
   ]
  },
  {
   "cell_type": "markdown",
   "metadata": {},
   "source": [
    "### graph construction"
   ]
  },
  {
   "cell_type": "code",
   "execution_count": 138,
   "metadata": {},
   "outputs": [
    {
     "data": {
      "image/png": "[encoded data removed]",
      "text/plain": [
       "<Figure size 500x500 with 1 Axes>"
      ]
     },
     "metadata": {},
     "output_type": "display_data"
    }
   ],
   "source": [
    "import networkx as nx\n",
    "\n",
    "real_data = pd.read_csv(\"../Data/Train_and_Validate_EEG.csv\")\n",
    "only_coh_cols = [col for col in real_data.columns if \"COH\" in col]\n",
    "psd = real_data[only_coh_cols]\n",
    "\n",
    "band_coh = [np.zeros((19, 19)) for _ in range(6)]\n",
    "for col in psd.columns:\n",
    "    loc1, loc2 = col.split(\".\")[3], col.split(\".\")[5]\n",
    "    band = ord(col.split(\".\")[1]) - ord('A')\n",
    "    band_coh[band][ord(loc1)-97,ord(loc2)-97] += psd[col].mean()\n",
    "    band_coh[band][ord(loc2)-97,ord(loc1)-97] += psd[col].mean()\n",
    "\n",
    "band_coh = np.array(band_coh)\n",
    "band_coh_max = np.max(band_coh, axis=0)\n",
    "\n",
    "# Find the indices of the top 10 values in band_coh_max, a 2D numpy array of shape (19, 19)\n",
    "\n",
    "np.array(np.unravel_index(np.argsort(band_coh_max, axis=None), band_coh_max.shape)).transpose()[-1:-4:-1]\n",
    "# np.array(np.unravel_index(np.argsort(band_coh_max, axis=None), band_coh_max.shape)).transpose()[-50:]\n",
    "\n",
    "edges = []\n",
    "for i in range(19):\n",
    "    edges.append(np.array(np.argsort(band_coh_max[i], axis=None)).transpose()[-1:-5:-1])\n",
    "edges = np.array(edges)\n",
    "edges\n",
    "\n",
    "edge_pairs = []\n",
    "\n",
    "# Make a graph visualization of these edges\n",
    "G = nx.Graph()\n",
    "\n",
    "# Add nodes\n",
    "for i in range(19):\n",
    "    G.add_node(i)\n",
    "\n",
    "# Add edges\n",
    "for i, edge_list in enumerate(edges):\n",
    "    for j in edge_list:\n",
    "        G.add_edge(i, j)\n",
    "        if i < j:\n",
    "            edge_pairs.append((i,j))\n",
    "\n",
    "# Draw the graph\n",
    "plt.figure(figsize=(5,5))\n",
    "nx.draw(G, with_labels=True, node_color='skyblue', node_size=700, edge_color='gray')\n",
    "plt.title(\"Graph Visualization of Edges\")\n",
    "plt.show()"
   ]
  },
  {
   "cell_type": "code",
   "execution_count": 149,
   "metadata": {},
   "outputs": [
    {
     "name": "stdout",
     "output_type": "stream",
     "text": [
      "tensor([[ 1.6737,  1.1985,  7.2110,  6.5457,  7.4633,  9.6663],\n",
      "        [ 1.2781,  1.2577,  6.4028,  4.4152,  5.4297, 10.8315],\n",
      "        [ 1.9437,  3.3245, 12.2837,  8.3783, 11.3557, 17.9017],\n",
      "        [ 0.8832,  0.6590,  2.8728,  2.5556,  2.7413,  4.7023],\n",
      "        [ 1.3486,  1.0284,  5.3057,  4.1969,  4.4212,  7.6221],\n",
      "        [ 2.7619,  1.3742,  6.5932,  4.7762,  5.6613,  5.7718],\n",
      "        [ 1.4351,  1.1479,  5.0919,  3.4666,  4.2827,  7.7251],\n",
      "        [ 0.7785,  0.5890,  3.6374,  3.7409,  4.4738,  5.0778],\n",
      "        [ 1.4409,  1.4411,  7.5371,  4.7309,  5.5338, 10.4435],\n",
      "        [ 1.3030,  1.3191,  6.6990,  4.5823,  5.5701, 11.0120],\n",
      "        [ 1.4175,  0.9516,  5.1784,  4.4948,  5.2894,  6.6025],\n",
      "        [ 0.7096,  0.5476,  3.4125,  3.4714,  4.1788,  4.7616],\n",
      "        [ 1.5577,  1.1383,  7.3794,  7.9012,  8.0082, 10.0799],\n",
      "        [ 1.3161,  1.3424,  6.8314,  4.6397,  5.6180, 11.0496],\n",
      "        [ 1.4237,  1.6701,  7.8691,  5.2927,  6.8878, 12.2208],\n",
      "        [ 2.5434,  1.1919,  5.2688,  4.1457,  4.0902,  5.1055],\n",
      "        [ 1.6168,  1.6774,  8.1178,  5.7974,  6.2763, 11.4677],\n",
      "        [ 1.4705,  1.9475,  9.7729,  6.4510,  8.2439, 14.9395],\n",
      "        [ 1.5784,  1.4028,  6.1127,  5.0922,  5.6860,  8.4344]])\n"
     ]
    }
   ],
   "source": [
    "from torch_geometric.data import Data\n",
    "from torch_geometric.nn import GCNConv\n",
    "\n",
    "edge_index = torch.tensor(edge_pairs).transpose(0,1)\n",
    "# make edge_index with dims [2,29] into shape [2,29,6] by copying\n",
    "\n",
    "edge_attr = torch.tensor([band_coh_max[edge] for edge in edge_pairs], dtype=torch.float32)\n",
    "data = Data(x=train_dataset.node_features, edge_index=edge_index, edge_attr=edge_attr)\n",
    "\n",
    "# Define GNN Model\n",
    "class GCN(torch.nn.Module):\n",
    "    def __init__(self, in_channels=6, hidden_channels=16, out_channels=64):\n",
    "        super(GCN, self).__init__()\n",
    "        self.conv1 = GCNConv(in_channels, hidden_channels)\n",
    "        self.conv2 = GCNConv(hidden_channels, out_channels)\n",
    "        \n",
    "        # convert batch_size x 19 x out_channels to batch_size x out_channels by making 19 layers connect to one of the 64\n",
    "        self.fc1 = nn.Linear(out_channels * 19, out_channels)\n",
    "        self.fc2 = nn.Linear(out_channels, hidden_channels)\n",
    "        self.fc3 = nn.Linear(hidden_channels, 7)\n",
    "        \n",
    "        self.bn1 = nn.BatchNorm1d(out_channels)\n",
    "        self.bn2 = nn.BatchNorm1d(hidden_channels)\n",
    "\n",
    "    def forward(self, x, edge_index, edge_attr):\n",
    "        # Apply GCNConv layers\n",
    "        x = self.conv1(x, edge_index)\n",
    "        x = F.relu(x)\n",
    "        x = self.conv2(x, edge_index)\n",
    "        x = F.relu(x)\n",
    "        x = self.fc1(torch.flatten(x, start_dim=1))\n",
    "        x = self.bn1(x)\n",
    "        x = F.relu(x)\n",
    "        x = self.fc2(x)\n",
    "        x = self.bn2(x)\n",
    "        x = F.relu(x)\n",
    "        x = self.fc3(x)\n",
    "        return x\n",
    "\n",
    "# The number of input channels should match the number of features in node_features\n",
    "in_channels = node_features.shape[2]\n",
    "model = GCN(in_channels=in_channels)\n",
    "\n",
    "out = model(data.x[:3], data.edge_index, data.edge_attr)\n",
    "out.shape"
   ]
  },
  {
   "cell_type": "code",
   "execution_count": 150,
   "metadata": {},
   "outputs": [
    {
     "name": "stdout",
     "output_type": "stream",
     "text": [
      "GCN(\n",
      "  (conv1): GCNConv(6, 16)\n",
      "  (conv2): GCNConv(16, 64)\n",
      "  (fc1): Linear(in_features=1216, out_features=64, bias=True)\n",
      "  (fc2): Linear(in_features=64, out_features=16, bias=True)\n",
      "  (fc3): Linear(in_features=16, out_features=7, bias=True)\n",
      "  (bn1): BatchNorm1d(64, eps=1e-05, momentum=0.1, affine=True, track_running_stats=True)\n",
      "  (bn2): BatchNorm1d(16, eps=1e-05, momentum=0.1, affine=True, track_running_stats=True)\n",
      ")\n",
      "80407\n"
     ]
    }
   ],
   "source": [
    "# Print the model\n",
    "print(model)\n",
    "# how many parameters?\n",
    "pytorch_total_params = sum(p.numel() for p in model.parameters())\n",
    "print(pytorch_total_params)"
   ]
  },
  {
   "cell_type": "code",
   "execution_count": 151,
   "metadata": {},
   "outputs": [
    {
     "name": "stderr",
     "output_type": "stream",
     "text": [
      "/Users/hamsterlord/.pyenv/versions/3.10.4/Library/Frameworks/Python.framework/Versions/3.10/lib/python3.10/site-packages/torch/optim/lr_scheduler.py:28: UserWarning: The verbose parameter is deprecated. Please use get_last_lr() to access the learning rate.\n",
      "  warnings.warn(\"The verbose parameter is deprecated. Please use get_last_lr() \"\n"
     ]
    }
   ],
   "source": [
    "criterion = nn.CrossEntropyLoss()\n",
    "\n",
    "optimizer = optim.Adam(model.parameters(),\n",
    "                       lr=0.0001,\n",
    "                       weight_decay=1e-5)\n",
    "\n",
    "scheduler = ReduceLROnPlateau(optimizer,\n",
    "                              mode='min',\n",
    "                              factor = 0.1,\n",
    "                              patience = 3,\n",
    "                              min_lr = 1e-5,\n",
    "                              verbose = True)"
   ]
  },
  {
   "cell_type": "code",
   "execution_count": 161,
   "metadata": {},
   "outputs": [
    {
     "name": "stdout",
     "output_type": "stream",
     "text": [
      "672\n",
      "21\n"
     ]
    },
    {
     "data": {
      "text/plain": [
       "torch.Size([19, 6])"
      ]
     },
     "execution_count": 161,
     "metadata": {},
     "output_type": "execute_result"
    }
   ],
   "source": [
    "print(len(train_dataset))\n",
    "print(len(train_loader))"
   ]
  },
  {
   "cell_type": "code",
   "execution_count": null,
   "metadata": {},
   "outputs": [],
   "source": [
    "best_loss = np.inf\n",
    "patience = 20\n",
    "min_delta = 0.01\n",
    "early_stop_counter = 0\n",
    "\n",
    "train_losses = []\n",
    "train_accs = []\n",
    "val_losses = []\n",
    "val_accs = []\n",
    "final_epoch = 0\n",
    "\n",
    "num_epochs = 100\n",
    "\n",
    "for epoch in range(num_epochs):\n",
    "\n",
    "    # train\n",
    "    model.train()\n",
    "    running_loss = 0.\n",
    "    running_accuracy = 0.\n",
    "\n",
    "    for data in train_loader:\n",
    "        inputs, labels = data\n",
    "\n",
    "        optimizer.zero_grad()  # zero gradients\n",
    "\n",
    "        outputs = model.forward(*inputs)  # input net\n",
    "\n",
    "        labels = labels.long()\n",
    "\n",
    "        loss = criterion(outputs, labels)\n",
    "        loss.backward()\n",
    "\n",
    "        outputs = F.softmax(outputs, dim=1)\n",
    "        top_p, top_class = outputs.topk(k=1, dim=1)\n",
    "\n",
    "        optimizer.step()\n",
    "\n",
    "        running_loss += loss.item()\n",
    "\n",
    "        _, predicted = torch.max(outputs.data, 1)\n",
    "        accuracy = (predicted == labels).float().sum()\n",
    "        running_accuracy += accuracy.item()\n",
    "\n",
    "    epoch_loss = running_loss / len(train_loader)\n",
    "    epoch_accuracy = running_accuracy / len(train_dataset)\n",
    "    train_accs.append(epoch_accuracy)\n",
    "\n",
    "    if epoch % 5 == 0:\n",
    "        print(f\"Epoch [{epoch + 1}/{num_epochs}], Loss: {epoch_loss:.4f}, Acc: {epoch_accuracy:.4f}\")\n",
    "    train_losses.append(epoch_loss)\n",
    "\n",
    "    # val\n",
    "    model.eval()\n",
    "    val_loss = 0.0\n",
    "    val_accuracy = 0.0\n",
    "    correct = total = 0\n",
    "\n",
    "    with torch.no_grad():\n",
    "        for data in val_loader:\n",
    "            inputs, labels = data\n",
    "\n",
    "            outputs = model(*inputs)\n",
    "\n",
    "            loss = criterion(outputs, labels)\n",
    "            val_loss += loss.item()\n",
    "\n",
    "            _, predicted = torch.max(outputs.data, 1)\n",
    "\n",
    "            accuracy = (predicted == labels).float().mean()\n",
    "            val_accuracy += accuracy.item()\n",
    "\n",
    "    val_loss /= len(val_loader)\n",
    "    val_accuracy /= len(val_loader)\n",
    "\n",
    "    if epoch % 5 == 0:\n",
    "        print(f\"Validation Loss: {val_loss:.4f}, Validation Accuracy: {val_accuracy:.4f}\\n\")\n",
    "    val_losses.append(val_loss)\n",
    "    val_accs.append(val_accuracy)\n",
    "\n",
    "\n",
    "    # Early stopping\n",
    "    if val_loss < best_loss - min_delta:\n",
    "        best_loss = val_loss\n",
    "        early_stop_counter = 0\n",
    "        #best_model_state = model.state_dict()\n",
    "    else:\n",
    "        early_stop_counter += 1\n",
    "\n",
    "    # if early_stop_counter >= patience:\n",
    "    #     print(f\"Early stopping at epoch {epoch+1}.\")\n",
    "    #     final_epoch = epoch+1\n",
    "    #     #model.load_state_dict(best_model_state)\n",
    "    #     break\n",
    "\n",
    "    scheduler.step(val_loss)"
   ]
  }
 ],
 "metadata": {
  "kernelspec": {
   "display_name": "3.10",
   "language": "python",
   "name": "python3"
  },
  "language_info": {
   "codemirror_mode": {
    "name": "ipython",
    "version": 3
   },
   "file_extension": ".py",
   "mimetype": "text/x-python",
   "name": "python",
   "nbconvert_exporter": "python",
   "pygments_lexer": "ipython3",
   "version": "3.10.4"
  }
 },
 "nbformat": 4,
 "nbformat_minor": 2
}
